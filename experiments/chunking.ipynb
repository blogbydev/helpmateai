{
 "cells": [
  {
   "metadata": {},
   "cell_type": "markdown",
   "source": "# Chunking a PDF document",
   "id": "6827e72a540cc483"
  },
  {
   "metadata": {
    "ExecuteTime": {
     "end_time": "2025-04-27T15:41:11.514458Z",
     "start_time": "2025-04-27T15:41:11.255186Z"
    }
   },
   "cell_type": "code",
   "source": [
    "import pdfplumber\n",
    "from IPython.display import JSON"
   ],
   "id": "b74ad119bfb993fb",
   "outputs": [],
   "execution_count": 1
  },
  {
   "metadata": {
    "ExecuteTime": {
     "end_time": "2025-04-27T15:41:14.851799Z",
     "start_time": "2025-04-27T15:41:14.850003Z"
    }
   },
   "cell_type": "code",
   "source": "pdf_document_file_path = \"../Life Insurance Policy Sample.pdf\"",
   "id": "initial_id",
   "outputs": [],
   "execution_count": 2
  },
  {
   "metadata": {
    "ExecuteTime": {
     "end_time": "2025-04-27T15:41:16.403714Z",
     "start_time": "2025-04-27T15:41:16.401133Z"
    }
   },
   "cell_type": "code",
   "source": [
    "def is_useful_page(text):\n",
    "    return \"Section\" in text.strip().splitlines()[-1]\n",
    "\n",
    "def get_part(text):\n",
    "    return text.strip().splitlines()[-2]\n",
    "\n",
    "def get_section(text):\n",
    "    last_line = text.strip().splitlines()[-1]\n",
    "    section_with_page_number = \"Section \" + last_line.split(\"Section\")[1]\n",
    "    return section_with_page_number.split(\"Page\")[0].strip().split(\",\")[0].strip()"
   ],
   "id": "95e86af29b02d63d",
   "outputs": [],
   "execution_count": 3
  },
  {
   "metadata": {},
   "cell_type": "code",
   "source": [
    "data = {}\n",
    "\n",
    "with pdfplumber.open(pdf_document_file_path) as pdf:\n",
    "    for page in pdf.pages:\n",
    "        full_text = page.extract_text()\n",
    "        if is_useful_page(full_text):\n",
    "            part                = get_part(full_text)\n",
    "            section             = get_section(full_text)\n",
    "\n",
    "            if part not in data:\n",
    "                data[part] = {}\n",
    "            data_part = data[part]\n",
    "\n",
    "            if section not in data_part:\n",
    "                data_part[section] = []\n",
    "            data_part_section = data_part[section]\n",
    "\n",
    "            data_part_section.extend(full_text.splitlines())\n",
    "\n",
    "\n",
    "\n",
    "JSON(data)"
   ],
   "id": "d46af298360d3e79",
   "outputs": [],
   "execution_count": null
  },
  {
   "metadata": {
    "ExecuteTime": {
     "end_time": "2025-04-27T16:48:16.525515Z",
     "start_time": "2025-04-27T16:48:16.519342Z"
    }
   },
   "cell_type": "code",
   "source": [
    "documents = []\n",
    "\n",
    "def is_not_same(left, right):\n",
    "    return left.replace(\" \", \"\").lower() not in right.replace(\" \", \"\").lower()\n",
    "\n",
    "for part,part_detail in data.items():\n",
    "    for section, section_detail in part_detail.items():\n",
    "        article = \"\"\n",
    "        article.replace(\" \", \"\").lower()\n",
    "        content = \"\"\n",
    "        for line in section_detail:\n",
    "            if is_not_same(part, line) and is_not_same(section, line) and is_not_same(\"This policy has been updated effective\", line):\n",
    "                if \"Article \" in line and \" - \" in line:\n",
    "                    if article and content:\n",
    "                        documents.append({\n",
    "                            \"part\": part,\n",
    "                            \"section\": section,\n",
    "                            \"article\": article,\n",
    "                            \"content\": content\n",
    "                        })\n",
    "                    article = line\n",
    "                    content = \"\"\n",
    "                    continue\n",
    "                else:\n",
    "                    content += line + \" \"\n",
    "            else:\n",
    "                continue\n",
    "\n",
    "        # Append the last article and content\n",
    "        if article and content:\n",
    "            documents.append({\n",
    "                \"part\": part,\n",
    "                \"section\": section,\n",
    "                \"article\": article,\n",
    "                \"content\": content\n",
    "            })\n"
   ],
   "id": "3ddb16bd02550fef",
   "outputs": [],
   "execution_count": 24
  },
  {
   "metadata": {
    "ExecuteTime": {
     "end_time": "2025-04-27T16:48:20.023848Z",
     "start_time": "2025-04-27T16:48:20.020587Z"
    }
   },
   "cell_type": "code",
   "source": "JSON(documents)",
   "id": "b94b66dc47c0f1a0",
   "outputs": [
    {
     "data": {
      "text/plain": [
       "<IPython.core.display.JSON object>"
      ],
      "application/json": [
       {
        "part": "PART II - POLICY ADMINISTRATION",
        "section": "Section  A - Contract",
        "article": "Article 1 - Entire Contract",
        "content": "This Group Policy, the current Certificate, the attached Policyholder application, and any Member applications make up the entire contract. The Principal is obligated only as provided in this Group Policy and is not bound by any trust or plan to which it is not a signatory party. "
       },
       {
        "part": "PART II - POLICY ADMINISTRATION",
        "section": "Section  A - Contract",
        "article": "Article 2 - Policy Changes",
        "content": "Insurance under this Group Policy runs annually to the Policy Anniversary, unless sooner terminated. No agent, employee, or person other than an officer of The Principal has authority to change this Group Policy, and, to be effective, all such changes must be in Writing and Signed by an officer of The Principal. The Principal reserves the right to change this Group Policy as follows: a. Any or all provisions of this Group Policy may be amended or changed at any time, including retroactive changes, to the extent necessary to meet the requirements of any law or any regulation issued by any governmental agency to which this Group Policy is subject. b. Any or all provisions of this Group Policy may be amended or changed at any time when The Principal determines that such amendment is required for consistent application of policy provisions. c. By Written agreement between The Principal and the Policyholder, this Group Policy may be amended or changed at any time as to any of its provisions. Any change to this Group Policy, including, but not limited to, those in regard to coverage, benefits, and participation privileges, may be made without the consent of any Member or Dependent. Payment of premium beyond the effective date of the change constitutes the Policyholder's consent to the change. "
       },
       {
        "part": "PART II - POLICY ADMINISTRATION",
        "section": "Section  A - Contract",
        "article": "Article 3 - Policyholder Eligibility Requirements",
        "content": "To be an eligible group and to remain an eligible group, the Policyholder must: a. be actively engaged in business for profit within the meaning of the Internal Revenue Code, or be established as a legitimate nonprofit corporation within the meaning of the Internal Revenue Code; and b. make at least the level of premium contributions required for insurance on its eligible Members. The Policyholder must: (1) contribute at least 50% of the required premium for all Members (including disabled Members, if any); and c. if the Member is to contribute part of the premium, maintain the following participation percentages with respect to eligible employees and Dependents, excluding those for whom Proof of Good Health is not satisfactory to The Principal: (1) Employees: - at least 75% of all eligible employees must enroll; (2) Dependents: - maintain a Dependent participation of at least 75% of eligible Dependents; and d. if the Member is to contribute no part of the premium, 100% of eligible employees and Dependents must enroll. "
       },
       {
        "part": "PART II - POLICY ADMINISTRATION",
        "section": "Section  A - Contract",
        "article": "Article 4 - Policy Incontestability",
        "content": "In the absence of fraud, after this Group Policy has been in force two years, The Principal may not contest its validity except for nonpayment of premium. "
       },
       {
        "part": "PART II - POLICY ADMINISTRATION",
        "section": "Section  A - Contract",
        "article": "Article 5 - Individual Incontestability",
        "content": "All statements made by any individual insured under this Group Policy will be representations and not warranties. In the absence of fraud, these statements may not be used to contest an insured person's insurance unless: a. the insured person's insurance has been in force for less than two years during the insured's lifetime; and b. the statement is in Written form Signed by the insured person; and c . a copy of the form which contains the statement is given to the insured or the insured's beneficiary at the time insurance is contested. However, these provisions will not preclude the assertion at any time of defenses based upon the person's ineligibility for insurance under this Group Policy or upon the provisions of this Group Policy. In addition, if an individual's age is misstated, The Principal may at any time adjust premium and benefits to reflect the correct age. "
       },
       {
        "part": "PART II - POLICY ADMINISTRATION",
        "section": "Section  A - Contract",
        "article": "Article 6 - Information to be Furnished",
        "content": "The Policyholder must, upon request, give The Principal all information needed to administer this Group Policy. If a clerical error is found in this information, The Principal may at any time adjust premium to reflect the facts. An error will not invalidate insurance that would otherwise be in force. Neither will an error continue insurance that would otherwise be terminated. The Principal may inspect, at any reasonable time, all Policyholder records, which relate to this Group Policy. "
       },
       {
        "part": "PART II - POLICY ADMINISTRATION",
        "section": "Section  A - Contract",
        "article": "Article 7 - Certificates",
        "content": "The Principal will give the Policyholder Certificates for delivery to insured Members. The delivery of such Certificates will be in either paper or electronic format. The Certificates will be evidence of insurance and will describe the basic features of the coverage. They will not be considered a part of this Group Policy. "
       },
       {
        "part": "PART II - POLICY ADMINISTRATION",
        "section": "Section  A - Contract",
        "article": "Article 8 - Assignments",
        "content": "No assignments of Member Life Insurance will be allowed under this Group Policy. "
       },
       {
        "part": "PART II - POLICY ADMINISTRATION",
        "section": "Section  A - Contract",
        "article": "Article 9 - Dependent Rights",
        "content": "A Dependent will have no rights under this Group Policy except as set forth in PART III, Section F, Article 2. "
       },
       {
        "part": "PART II - POLICY ADMINISTRATION",
        "section": "Section  A - Contract",
        "article": "Article 10 - Policy Interpretation",
        "content": "T he Principal has complete discretion to construe or interpret the provisions of this group insurance policy, to determine eligibility for benefits, and to determine the type and extent of benefits, if any, to be provided. The decisions of The Principal in such matters shall be controlling, binding and final as between The Principal and persons covered by this Group Policy, subject to the Claims Procedures in PART IV, Section D. "
       },
       {
        "part": "PART II - POLICY ADMINISTRATION",
        "section": "Section  A - Contract",
        "article": "Article 11 - Electronic Transactions",
        "content": "Any transaction relating to this Group Policy may be conducted by electronic means if performance of the transaction is consistent with applicable state and federal law. Any notice required by the provisions of this Group Policy given by electronic means will have the same force and effect as notice given in writing. "
       },
       {
        "part": "PART II - POLICY ADMINISTRATION",
        "section": "Section  B - Premiums",
        "article": "Article 1 - Payment Responsibility; Due Dates; Grace Period",
        "content": "The Policyholder is responsible for collection and payment of all premiums due while this Group Policy is in force. Payments must be sent to the home office of The Principal in Des Moines, Iowa. The first premium is due on the Date of Issue of this Group Policy. Each premium thereafter will be due on the first of each Insurance Month. Except for the first premium, a Grace Period of 31 days will be allowed for payment of premium. \"Grace Period\" means the first 31-day period following a premium due date. The Group Policy will remain in force until the end of the Grace Period, unless the Group Policy has been terminated by notice as described in PART II, Section C. The Policyholder will be liable for payment of the premium for the time this Group Policy remains in force during the Grace Period. "
       },
       {
        "part": "PART II - POLICY ADMINISTRATION",
        "section": "Section  B - Premiums",
        "article": "Article 2 - Premium Rates",
        "content": "The premium rate(s) for each Member insured for Life Insurance will be: a. Member Life Insurance $0.210 for each $1,000 of insurance in force. b. Member Accidental Death and Dismemberment Insurance $0.025 for each $1,000 of Member Life Insurance in force. c. Dependent Life Insurance $1.46 for each Member insured for Dependent Life Insurance. If the Policyholder has at least two other eligible group insurance policies underwritten by The Principal, as determined by The Principal, the Policyholder may be eligible for a multiple policy discount. "
       },
       {
        "part": "PART II - POLICY ADMINISTRATION",
        "section": "Section  B - Premiums",
        "article": "Article 3 - Premium Rate Changes",
        "content": "The Principal may change a premium rate: a. on any premium due date, if the initial premium rate has then been in force 24 months or more and if Written notice is given to the Policyholder at least 31 days before the date of change; or b . on any date the definition of Member or Dependent is changed; and c. on any date the Policyholder's business, as specified on the Policyholder application, is changed; and d. on any date that a schedule of insurance or class of insured Members is changed; and e. on any premium due date, if the Policyholder has been receiving a multiple policy discount rate and the Policyholder drops below the minimum number of coverages to receive such discount rate; and f. on any date the premium contribution required of Members is changed; and g. with respect to Member Life Insurance, on any Policy Anniversary, if the average age, average Scheduled Benefit amount, or the male/female distribution for then insured Members has changed since the last Policy Anniversary; and h. on any Policy Anniversary, if the volume of insurance for then insured Members has increased or decreased by more than 25% since the last Policy Anniversary. If the Policyholder has other group insurance with The Principal, and if life coverage is initially added on a date other than the Policy Anniversary and it is more than six months before the next Policy Anniversary, The Principal reserves the right to change the premium rate on the next Policy Anniversary. Written notice will be given to the Policyholder at least 31 days before the date of change. If the Policyholder agrees to participate in the electronic services program of The Principal and, at a later date elects to withdraw from participation, such withdrawal may result in certain administrative fees being charged to the Policyholder. "
       },
       {
        "part": "PART II - POLICY ADMINISTRATION",
        "section": "Section  B - Premiums",
        "article": "Article 4 - Premium Amount",
        "content": "The amount of premium to be paid on each due date will be determined in these ways: a. Member Life Insurance The total volume of insurance in force will be divided by 1,000. The result will then be multiplied by the premium rate then in effect. b. Member Accidental Death and Dismemberment Insurance The total volume of insurance in force will be divided by 1,000. The result will then be multiplied by the premium rate then in effect. c. Dependent Life Insurance The number of Members insured for Dependent Life Insurance will be multiplied by the premium rate then in effect. To ensure accurate premium calculations, the Policyholder is responsible for reporting to The Principal, the following information during the stated time periods: a. Members who are eligible to become insured are to be reported during the month prior to or during the month that coverage becomes effective. b. Members whose coverage has terminated are to be reported within a month of the date coverage terminated. c. Changes in Member insurance class are to be reported within a month of the date that the change in insurance class took place. If a Member is added or a present Member's insurance is increased or terminated on other than the first of an Insurance Month, premium for that Member will be adjusted and applied as if the change were to take place on the first of the next following Insurance Month. "
       },
       {
        "part": "PART II - POLICY ADMINISTRATION",
        "section": "Section  B - Premiums",
        "article": "Article 5 - Contributions from Members",
        "content": "Members are not required to contribute a part of the premium for their Member insurance under this Group Policy. Members are required to contribute a part of the premium for their Dependent's insurance under this Group Policy. "
       },
       {
        "part": "PART II - POLICY ADMINISTRATION",
        "section": "Section  C - Policy Termination",
        "article": "Article 1 - Failure to Pay Premium",
        "content": "This Group Policy will terminate at the end of the Grace Period if total premium due has not been received by The Principal before the end of the Grace Period. Failure by the Policyholder to pay the premium within the Grace Period will be deemed notice by the Policyholder to The Principal to discontinue this Group Policy at the end of the Grace Period. "
       },
       {
        "part": "PART II - POLICY ADMINISTRATION",
        "section": "Section  C - Policy Termination",
        "article": "Article 2 - Termination Rights of the Policyholder",
        "content": "The Policyholder may terminate this Group Policy effective on the day before any premium due date by giving Written notice to The Principal prior to that premium due date. The Policyholder's issuance of a stop-payment order for any amounts used to pay premiums for the Policyholder's coverage will be considered Written notice from the Policyholder. "
       },
       {
        "part": "PART II - POLICY ADMINISTRATION",
        "section": "Section  C - Policy Termination",
        "article": "Article 3 - Termination Rights of The Principal",
        "content": "The Principal may nonrenew or terminate this Group Policy by giving the Policyholder 31 days advance notice in Writing, if the Policyholder: a. ceases to be actively engaged in business for profit within the meaning of the Internal Revenue Code, or be established as a legitimate nonprofit corporation within the meaning of the Internal Revenue Code; or b. fails to maintain the participation percentages requirements of PART II, Section A with respect to eligible employees, excluding those for whom Proof of Good Health is not satisfactory to The Principal; or c. fails to maintain three or more insured employees under this Group Policy; or d. fails to pay premium in accordance with the requirements of PART II, Section B; or e. has performed an act or practice that constitutes fraud or has made an intentional misrepresentation of material fact under the terms of this Group Policy; or f. does not promptly provide The Principal with information that is reasonably required; or g. fails to perform any of its obligations that relate to this Group Policy. T he Principal may terminate the Policyholder's coverage on any premium due date if the Policyholder relocates to a state where this Group Policy is not marketed, by giving the Policyholder 31 days advanced notice in Writing. "
       },
       {
        "part": "PART II - POLICY ADMINISTRATION",
        "section": "Section  C - Policy Termination",
        "article": "Article 4 - Policyholder Responsibility to Members",
        "content": "If this Group Policy terminates for any reason, the Policyholder must: a. notify each Member of the effective date of the termination; and b. refund or otherwise account to each Member all contributions received or withheld from Members for premiums not actually paid to The Principal. "
       },
       {
        "part": "PART II - POLICY ADMINISTRATION",
        "section": "Section  D - Policy Renewal",
        "article": "Article 1 - Renewal",
        "content": "Insurance under this Group Policy runs annually to the Policy Anniversary, unless sooner terminated. While this Group Policy is in force, and subject to the provisions in PART II, Section C, the Policyholder may renew at the applicable premium rates in effect on the Policy Anniversary. "
       },
       {
        "part": "PART III - INDIVIDUAL REQUIREMENTS AND RIGHTS",
        "section": "Section  A - Eligibility",
        "article": "Article 1 - Member Life Insurance",
        "content": "A person will be eligible for Member Life Insurance on the date the person completes 30 consecutive days of continuous Active Work with the Policyholder as a Member. In no circumstance will a person be eligible for Member Life Insurance under this Group Policy if the person is eligible under any other Group Term Life Insurance policy underwritten by The Principal. "
       },
       {
        "part": "PART III - INDIVIDUAL REQUIREMENTS AND RIGHTS",
        "section": "Section  A - Eligibility",
        "article": "Article 2 - Member Accidental Death and Dismemberment Insurance",
        "content": "A person will be eligible for Member Accidental Death and Dismemberment Insurance on the latest of: a. the date the person is eligible for Member Life Insurance; or b. the date the person enters a class for which Member Accidental Death and Dismemberment Insurance is provided under this Group Policy; or c. the date Member Accidental Death and Dismemberment Insurance is added to this Group Policy. "
       },
       {
        "part": "PART III - INDIVIDUAL REQUIREMENTS AND RIGHTS",
        "section": "Section  A - Eligibility",
        "article": "Article 3 - Dependent Life Insurance",
        "content": "A person will be eligible for Dependent Life Insurance on the latest of: a. the date the person is eligible for Member Life Insurance; or b. the date the person first acquires a Dependent; or c. the date the person enters a class for which Dependent Life Insurance is provided under this Group Policy; or d. the date Dependent Life Insurance is added to this Group Policy. I f a Member's Dependent is employed and is covered under group term life coverage or coverages provided by the Dependent's employer, the date such coverage terminates because the Dependent is no longer eligible under his/her employer's coverage will be considered the date the Member first acquires that Dependent (and any other Dependent who was also covered under such group coverage or coverages). "
       },
       {
        "part": "PART III - INDIVIDUAL REQUIREMENTS AND RIGHTS",
        "section": "Section  B - Effective Dates",
        "article": "Article 1 - Member Life Insurance",
        "content": "a. Actively at Work A Member's effective date for Member Life Insurance will be as explained in this article, if the Member is Actively at Work on that date. If the Member is not Actively at Work on the date insurance would otherwise be effective, such insurance will not be in force until the day of return to Active Work. However, this Actively at Work requirement will be waived for Members who: (1) are absent from Active Work because of a regularly scheduled day off, holiday, or vacation day; and (2) were Actively at Work on their last scheduled work day before the date of their absence; and (3) were capable of Active Work on the day before the scheduled effective date of their insurance or change in their insurance, whichever is applicable. This Actively at Work requirement may also be waived as described below. When insurance under this Group Policy replaces coverage under a Prior Policy, the Active Work requirement may be waived for those Members who: (1) are eligible and enrolled under this Group Policy on its Date of Issue; and (2) were covered under the Prior Policy on the date of its termination. In no event will the Active Work requirement be waived for those Members who, on the date of termination of the Prior Policy, either: (1) had the option, under the terms of the Prior Policy, to convert their coverage under the Prior Policy to an individual policy; or (2) were eligible under the terms of the Prior Policy, to have their premiums waived due to ADL Disability or Total Disability. NOTE: When insurance under this Group Policy replaces coverage under a Prior Policy and the Active Work requirement is waived, any benefits payable will be the lesser of the Scheduled Benefit of this Group Policy or the amount that would have been paid by the Prior Policy had it remained in force. b. Effective Date for Initial Insurance When Proof of Good Health is Required Insurance for which Proof of Good Health is required (see e. below) will be in force on the later of: (1) the date insurance would have been effective if Proof of Good Health had not been required; or (2) the date Proof of Good Health is approved by The Principal. c. Effective Date for Initial Noncontributory Insurance When Proof of Good Health is not Required Unless Proof of Good Health is required (see b. above and e. below), insurance for which the Member contributes no part of premium will be in force on the date the Member is eligible. d. Effective Date for Initial Contributory Insurance When Proof of Good Health is not Required If a Member is to contribute a part of premium, insurance must be requested in a form provided by The Principal. Unless Proof of Good Health is required (see b. above and e. below), the requested insurance will be in force on: (1) the date the Member is eligible, if the request is made on or before that date; or (2) the date of the Member's request, if the request is made within 31 days after the date the Member is eligible. If the request is made more than 31 days after the date the Member is eligible, Proof of Good Health will be required before insurance can be in force (see b. above and e. below). e. Proof of Good Health Requirements The type and form of required Proof of Good Health will be determined by The Principal. A Member must submit Proof of Good Health: (1) If insurance for which a Member contributes a part of premium is requested more than 31 days after the date the Member is eligible including any insurance the Member refuses and later requests. (2) If insurance is requested under this Group Policy by a Member that was eligible under the Prior Policy, but elected to waive coverage under the Prior Policy. (3) If a Member has failed to provide required Proof of Good Health or has been refused insurance under this Group Policy at any prior time. (4) If a Member elects to terminate insurance and, more than 31 days later, requests to be insured again. (5) If, on the date a Member becomes eligible, fewer than five Members are insured. (6) If, on the date a Member becomes eligible for any increased or additional Scheduled Benefit amount, fewer than five Members are insured. (7) To make effective any Scheduled Benefit amounts for the Member that are, initially or through later increases, in excess of: - $10,000 for Members who are under age 65; and - $10,000 for Members who are age 65 or over but under age 70; and - *$10,000 for Members who are age 70 or over. *If a Member is insured under this Group Policy on its Date of Issue and this insurance replaces insurance in force on the day immediately before the Date of Issue: the lesser of the amount shown above or the amount for which the Member was insured under the replaced insurance. f. Effective Date for Benefit Changes Due to Change in Insurance Class (1) A change in the Member's Scheduled Benefit amount because of a change in the Member's insurance class for which Proof of Good Health is not required (see e. above) will normally be effective on the date of change. However, if the Member is not Actively at Work on the date a Scheduled Benefit change would otherwise be effective, the Scheduled Benefit change will not be in force until the date the Member returns to Active Work. Any decrease in Scheduled Benefit amounts due to a change in a Member's insurance class will be effective on the date of the change, whether or not the Member is Actively at Work. Any termination of Scheduled Benefit amounts due to a change in the Member's insurance class will be effective on the date of the change, whether or not the Member is Actively at Work. (2) A change in a Member's Scheduled Benefit amount because of a change in the Member's insurance class for which Proof of Good Health is required (see e. above) will be effective on the later of: - the date the change would have been effective if Proof of Good Health had not been required; or - the date Proof of Good Health is approved by The Principal. g. Effective Date for Benefit Changes Due to Change by Policy Amendment (1) A change in the Member's Scheduled Benefit amount because of a change in the Schedule of Insurance (as described in PART IV, Section A) by amendment to this Group Policy for which Proof of Good Health is not required (see e. above) will be effective on the date of change. However, if the Member is not Actively at Work on the date an increase in the Scheduled Benefit would otherwise be effective, the Scheduled Benefit in force for the Member before the change will continue to apply to the Member until the day of return to Active Work. When the Member returns to Active Work, the Scheduled Benefit increase will then be in force for the Member. Any decrease in Scheduled Benefit amounts due to a change by amendment to this Group Policy will be effective on the date of change, whether or not the Member is Actively at Work. (2) A change in the Member's Scheduled Benefit amount because of a change in the Schedule of Insurance (as described in PART IV, Section A) by amendment to this Group Policy for which Proof of Good Health is required (see e. above) will be effective on the later of: - the date the change would have been effective if Proof of Good Health had not been required; or - the date Proof of Good Health is approved by The Principal. h. Effective Date for Benefit Changes Due to Changes Requested by the Member (1) A change in a Member's Scheduled Benefit amount because of a request by the Member for which Proof of Good Health is not required (see e. above) will normally be effective on the date of the request. However, if the Member is not Actively at Work on the date a Scheduled Benefit change would otherwise be effective, the Scheduled Benefit change will not be in force until the date the Member returns to Active Work. Any decrease in Scheduled Benefit amounts due to a request by the Member will be effective on the date of the change, whether or not the Member is Actively at Work. (2) A change in the Member's Scheduled Benefit amount because of a request by the Member for which Proof of Good Health is required (see e. above) will be effective on the later of: - the date the change would have been effective if Proof of Good Health had not been required; or - the date Proof of Good Health is approved by The Principal. i. Effective Date for Benefit Changes Due to Change in the Member's Family Status A Member may request an increase in Scheduled Benefit amount, a decrease in Scheduled Benefits, or the addition of Scheduled Benefits for which he or she was not previously insured if a change in the Member's family status as described below has occurred, provided a request for such increase, decrease, or addition is made in Writing within 31 days after the date of the change in family status: (1) marriage or establishment of a Civil Union partnership or divorce or termination of a Civil Union partnership; (2) death of a spouse or child; (3) birth or adoption of a child; (4) termination of employment by the Member's spouse or a change in the spouse's employment that causes loss of group coverage; (5) the Member's employment or the Member's spouse's employment changes from part- time to full-time or from full-time to part-time; (6) the Member or the Member's spouse takes an unpaid leave of absence. A change in the Scheduled Benefits because of a request by the Member when a change in family status has occurred for which Proof of Good Health is not required (see e. above) will normally be effective on the date of the request. However, if the Member is not Actively at Work on the date a Scheduled Benefit change would otherwise be effective, the Scheduled Benefit change will not be in force until the date the Member returns to Active Work. Any decrease in Scheduled Benefit amounts due to a request by the Member will be effective on the date of the change, whether or not the Member is Actively at Work. A change in the Scheduled Benefits because of a request by the Member when a change in family status has occurred for which Proof of Good Health is required (see e. above) will be effective on the later of: (1) the date the change would have been effective if Proof of Good Health had not been required; or (2) the date Proof of Good Health is approved by The Principal. "
       },
       {
        "part": "PART III - INDIVIDUAL REQUIREMENTS AND RIGHTS",
        "section": "Section  B - Effective Dates",
        "article": "Article 2 - Member Accidental Death and Dismemberment Insurance",
        "content": "Member Accidental Death and Dismemberment Insurance will be effective under the same terms as set forth for Member Life Insurance in this Section B, Article 1. However, in no event will Member Accidental Death and Dismemberment Insurance be in force for a Member who is not insured for Member Life Insurance. Any change in a Member's Scheduled Benefit will be as stated in this Section B, Article 1. "
       },
       {
        "part": "PART III - INDIVIDUAL REQUIREMENTS AND RIGHTS",
        "section": "Section  B - Effective Dates",
        "article": "Article 3 - Dependent Life Insurance",
        "content": "Dependent Life Insurance is available only with respect to Dependents of Members currently insured for Member Life Insurance. If a Member is eligible for Dependent Life Insurance, such insurance will be effective under the same terms as set forth for Member Life Insurance in this Section B, Article 1, except as described below. a . In no event will Dependent Life Insurance be in force for a Member who is not insured for Member Life Insurance. b. If a Dependent spouse is in a Period of Limited Activity on the date Dependent Life Insurance or an increase in Dependent Life Insurance Scheduled Benefit due to a change in the Member's Annual Compensation or insurance class would otherwise be effective, such insurance or increase will not be in force for that Dependent spouse until the Period of Limited Activity ends. However, this Period of Limited Activity requirement may be waived as described below. When insurance under this Group Policy replaces coverage under a Prior Policy, the Period of Limited Activity requirement may be waived for those Dependent spouses' who: (1) are eligible and enrolled under this Group Policy on its Date of Issue; and (2) were covered under the Prior Policy on the date of its termination. In no event will the Period of Limited Activity requirement be waived for those Dependent spouses' who, on the date of termination of the Prior Policy had the option, under the terms of the Prior Policy, to convert their coverage, under the Prior Policy, to an individual policy. NOTE: When insurance under this Group Policy replaces coverage under a Prior Policy and the Period of Limited Activity requirement is waived, any benefits payable will be the lesser of the Scheduled Benefit of this Group Policy or the amount that would have been paid by the Prior Policy had it remained in force. c. If insurance is requested under this Group Policy for a Dependent spouse that was eligible under the Prior Policy, but elected to waive coverage under the Prior Policy. d. If a Dependent is confined in a Hospital or Skilled Nursing Facility on the date an increase in the Dependent Life Insurance Scheduled Benefit would otherwise be effective, the Scheduled Benefit in force for the Dependent will continue to apply to the Dependent until such confinement ends. When the Hospital or Skilled Nursing Facility confinement ends, the Scheduled Benefit increase will then be in force for the Dependent. e. Any required Proof of Good Health will be with respect to the health of the Member's Dependents. f. If Dependent Life Insurance is in force for a Dependent of the Member, a Member will be insured with respect to a new Dependent (other than a newborn child) on the date the new Dependent is acquired, provided the new Dependent is not then confined in a Hospital or Skilled Nursing Facility. Requests for insurance and Proof of Good Health are not required provided The Principal has been notified of the new Dependent within 31 days after the date the Dependent is acquired. g. If Dependent Life Insurance is in force for a Dependent of the Member, a newly born child will be covered under this Group Policy on the date the child is 0 days old, provided the child meets the definition of a Dependent Child as defined in PART I. "
       },
       {
        "part": "PART III - INDIVIDUAL REQUIREMENTS AND RIGHTS",
        "section": "Section  C - Individual Terminations",
        "article": "Article 1 - Member Life Insurance",
        "content": "A Member's insurance under this Group Policy will terminate on the earliest of: a. the date this Group Policy is terminated; or b. the date the last premium is paid for the Member's insurance; or c. any date desired, if requested by the Member before that date; or d. the date the Member ceases to be a Member as defined in PART I; or e. the date the Member ceases to be in a class for which Member Life Insurance is provided; or f. the date the Member retires; or g. the date the Member ceases Active Work. "
       },
       {
        "part": "PART III - INDIVIDUAL REQUIREMENTS AND RIGHTS",
        "section": "Section  C - Individual Terminations",
        "article": "Article 2 - Member Accidental Death and Dismemberment Insurance",
        "content": "A Member's Accidental Death and Dismemberment Insurance under this Group Policy will terminate on the earliest of: a. the date his or her Member Life Insurance ceases; or b. the date Member Accidental Death and Dismemberment Insurance is removed from this Group Policy; or c. the date the last premium is paid for the Member's Accidental Death and Dismemberment Insurance; or d. any date desired, if requested by the Member before that date; or e. the date the Member ceases to be in a class for which Member Accidental Death and Dismemberment Insurance is provided. "
       },
       {
        "part": "PART III - INDIVIDUAL REQUIREMENTS AND RIGHTS",
        "section": "Section  C - Individual Terminations",
        "article": "Article 3 - Dependent Life Insurance",
        "content": "A Member's insurance under this Group Policy for a Dependent will terminate on the earliest of: a. the date his or her Member Life Insurance ceases; or b. the date Dependent Life Insurance is removed from this Group Policy; or c. the date the last premium is paid for the Member's Dependent Life Insurance; or d. any date desired, if requested by the Member before that date; or e. the date the Member ceases to be in a class for which Dependent Life Insurance is provided; or f. for a Dependent spouse on the date that Dependent spouse ceases to be a Dependent as defined in PART I; or g. for each Dependent Child, on the date that Dependent Child ceases to be a Dependent as defined in PART I. "
       },
       {
        "part": "PART III - INDIVIDUAL REQUIREMENTS AND RIGHTS",
        "section": "Section  C - Individual Terminations",
        "article": "Article 4 - Termination for Fraud",
        "content": "The Principal may at any time terminate a Member's or Dependent's eligibility under the Group Policy: a. in Writing and with 31-day notice, if the individual submits any claim that contains false or fraudulent elements under state or federal law; or b. in Writing and with 31-day notice, upon finding in a civil or criminal case that a Member or Dependent has submitted claims that contain false or fraudulent elements under state or federal law; or c. in Writing and with 31-day notice, when a Member or Dependent has submitted a claim which, in good faith judgement and investigation, a Member or Dependent knew or should have known, contains false or fraudulent elements under state or federal law. "
       },
       {
        "part": "PART III - INDIVIDUAL REQUIREMENTS AND RIGHTS",
        "section": "Section  C - Individual Terminations",
        "article": "Article 5 - Coverage While Outside of the United States",
        "content": "If a Member or Dependent is temporarily outside the United States, the Member or Dependent may choose to continue his or her insurance, subject to premium payment for a period of six months or less for one of the following reasons: a. travel; or b. a business assignment; or c. full-time student status, provided the Member or Dependent is either: (1) enrolled and attending an accredited school in a foreign country; or (2) is participating in an academic program in a foreign country, for which the institution of higher learning at which the student is enrolled in the U.S. grants academic credit. The six-month period will not be reduced for any time covered under a Prior Policy. If a Member or Dependent is outside the United States for any other reason than those listed above, coverage for the person concerned will automatically terminate. "
       },
       {
        "part": "PART III - INDIVIDUAL REQUIREMENTS AND RIGHTS",
        "section": "Section  D - Continuation",
        "article": "Article 1 - Member Life Insurance",
        "content": "a. Sickness or Injury (Other Than ADL Disability or Total Disability) If Active Work ends because a Member is sick or injured but not ADL Disabled or Totally Disabled, insurance for that Member may be continued until the earlier of: (1) the date insurance would otherwise cease as provided in PART III, Section C; or (2) the date the Member recovers. b. Layoff or Approved Leave of Absence If Active Work ends because a Member is on layoff or approved leave of absence, insurance for that Member may be continued until the earliest of: (1) the date insurance would otherwise cease as provided in PART III, Section C, Article 1 a. through g.; or (2) the date the layoff or approved leave of absence ends; or (3) the date the Member becomes eligible for any other group life coverage; or (4) the date one month after the date Active Work ends. c. Family and Medical Leave Act (FMLA) If a Member ceases Active Work due to an approved leave of absence under FMLA, the Policyholder may choose to continue the Member's insurance, subject to premium payment. A Member may qualify to have his or her insurance continued under one or more of the continuation provisions described in a., b., and c. above. If a Member qualifies for continuation under more than one provision, the longest period of continuation will be applied, and all periods of continuation will run concurrently. "
       },
       {
        "part": "PART III - INDIVIDUAL REQUIREMENTS AND RIGHTS",
        "section": "Section  D - Continuation",
        "article": "Article 2 - Dependent Insurance - Developmentally Disabled or Physically Handicapped",
        "content": "Children a. Qualification Dependent Life Insurance for a child may be continued after the child reaches the maximum age for Dependent Children as defined in PART I of this Group Policy, provided that: (1) the child is incapable of self-support as the result of a Developmental Disability or Physical Handicap and became so before reaching the maximum age and is dependent on the Member for primary support; and (2) except for age, the child continues to be a Dependent Child as defined in PART I; and (3) proof of the child's incapacity is sent to The Principal within 31 days after the date the child reaches the maximum age; and (4) further proof that the child remains incapable of self-support is provided when The Principal requests; and (5) the child undergoes examination by a Physician when The Principal requests. The Principal will pay for these examinations and will choose the Physician to perform them. b. Period of Continuation Insurance for a Dependent Child who qualifies as set forth above may be continued until the earlier of: (1) the date insurance would cease for any reason other than the child's attainment of the maximum age; or (2) the date the child becomes capable of self-support or otherwise fails to qualify as set forth in a. above. "
       },
       {
        "part": "PART III - INDIVIDUAL REQUIREMENTS AND RIGHTS",
        "section": "Section  E - Reinstatement",
        "article": "Article 1 - Reinstatement",
        "content": "A Member's terminated insurance will be reinstated if: a. insurance ceased because of layoff or approved leave of absence; and b. the Member returns to Active Work for the Policyholder within six months of the date insurance ceased. The Member's reinstated insurance will be in force on the date of return to work. However, the Actively at Work and Period of Limited Activity provisions discussed in PART III, Section B, will apply. Also, Proof of Good Health will be required to place in force any Scheduled Benefit that would have been subject to Proof of Good Health had the Member remained continuously insured. Only the period of time during which a Member is actually insured will be included in determining the length of his or her continuous coverage under this Group Policy. For this purpose the period of time during which a reinstated Member's insurance was not in force: a. will not be considered an interruption of continuous coverage; and b. will not be used to satisfy any provision of this Group Policy which pertains to a period of continuous coverage. In addition, a longer reinstatement period may be allowed for an approved leave of absence taken in accordance with the provisions of the federal law regarding the Uniformed Services Employment and Reemployment Rights Act of 1994 (USERRA). "
       },
       {
        "part": "PART III - INDIVIDUAL REQUIREMENTS AND RIGHTS",
        "section": "Section  E - Reinstatement",
        "article": "Article 2 - Federal Required Family and Medical Leave Act (FMLA)",
        "content": "A Member's terminated insurance may be reinstated in accordance with the provisions of the Federal Family and Medical Leave Act (FMLA), subject to the Actively at Work and Period of Limited Activity provision discussed in PART III, Section B. "
       },
       {
        "part": "PART III - INDIVIDUAL REQUIREMENTS AND RIGHTS",
        "section": "Section  E - Reinstatement",
        "article": "Article 3 - Reinstatement of Coverage for a Member or Dependent When Coverage Ends",
        "content": "due to Living Outside of the United States I f coverage for a Member or Dependent terminates because the person is outside of the United States as discussed in PART III, Section C, Article 5, the Member or Dependent may become eligible again for coverage under this Group Policy, but only if: a. the Member or Dependent return to the United States within six months of the date on which coverage terminated because the person is outside of the United States; and b. in the case of a Member, the Member returns to Active Work in the United States for the Policyholder for a period of at least 30 consecutive days. The Member will be eligible for coverage on the day immediately following completion of the 30 consecutive days of Active Work; and c. in the case of the Dependent, he or she remains in the United States for 30 consecutive days. If the Dependent does so, he or she will be eligible for reinstatement of coverage on the day after completion of the 30 consecutive days of residence. The reinstated coverage will be on the same basis as that being provided on the date coverage is reinstated. However, any restrictions on this coverage that were in effect before reinstatement will continue to apply. If the Member or Dependent does not complete the 30 consecutive days of residence, the coverage for such person will not be reinstated. "
       },
       {
        "part": "PART III - INDIVIDUAL REQUIREMENTS AND RIGHTS",
        "section": "Section  F - Individual Purchase Rights",
        "article": "Article 1 - Member Life Insurance",
        "content": "a. Individual Policy If a Member qualifies and makes timely application, he or she may convert the group coverage by purchasing an individual policy of life insurance under these terms: (1) The Member will not be required to submit Proof of Good Health. (2) The policy will be for life insurance only. No disability or other benefits will be included. (3) The policy will be on one of the forms, other than term insurance, then issued by The Principal to persons in the risk class to which the Member belongs on the individual policy's effective date. (4) Premium will be based on the Member's age and the standard rate of The Principal for the policy form to be issued. b. Purchase Qualification A Member will qualify for individual purchase if insurance under this Group Policy terminates and: (1) the Member's total Life Insurance, or any portion of it, terminates because he or she ends Active Work or ceases to be in a class eligible for insurance; or (2) after the Member has been continuously insured under this Group Policy for at least five years, his or her total Member Life Insurance terminates because this Group Policy terminates or is amended to exclude the Member's insurance class; or (3) the Member's Coverage During Disability as described in PART IV, Section A, ceases because Total Disability ends and he or she does not return to Active Work within 31 days; or (4) the Member's Accelerated Benefits Premium Waiver Period as described in PART IV, Section A, ceases and he or she does not qualify for Coverage During Disability . c. Application/Effective Date Notice of the individual purchase right must be given to the Member by the Policyholder before insurance under this Group Policy terminates, or as soon as reasonably possible thereafter. A Member must apply for individual purchase and the first premium for the individual policy must be paid to The Principal within 31 days after the date Member Life Insurance or Coverage During Disability terminates under this Group Policy. Any individual policy issued will then be in force on the 32nd day following such termination date. d. Individual Policy Amount The amount of insurance that may be purchased may vary: (1) If termination is as described in b. (1) above, the maximum amount will be the Member Life Insurance benefit in force on the date of termination or the portion of Member Life Insurance that has terminated, less any individual policy amount purchased earlier under this Article 1, and less any Accelerated Benefit payment as described in PART IV, Section A, Article 7. (2) If termination is as described in b. (2) above, the maximum amount will be the lesser of: - $10,000; or - the Member Life Insurance benefit in force on the date of termination, less any Accelerated Benefit payment as described in PART IV, Section A, Article 7 and less the amount for which the Member becomes eligible under any group policy within 31 days. (3) If termination is as described in b. (3) above, the maximum amount will be the Coverage During Disability benefit in force on the date Total Disability ceases, less any individual policy amount purchased earlier under this Article 1, and less any Accelerated Benefit payment as described in PART IV, Section A, Article 7. (4) If termination is as described in b. (4) above, the maximum amount will be the Member Life Insurance benefit in force on the date the Member ceases Active Work, less any individual policy amount purchased earlier under this Article 1, and less any Accelerated Benefit payment as described in PART IV, Section A, Article 7. "
       },
       {
        "part": "PART III - INDIVIDUAL REQUIREMENTS AND RIGHTS",
        "section": "Section  F - Individual Purchase Rights",
        "article": "Article 2 - Dependent Life Insurance",
        "content": "a. Individual Policy If a Dependent qualifies and makes timely application, he or she may purchase an individual policy of life insurance under these terms: (1) The Dependent will not be required to submit Proof of Good Health. (2) The policy will be for life insurance only. No disability or other benefits will be included. (3) The policy will be on one of the forms, other than term insurance, then issued by The Principal to persons in the risk class to which the Dependent belongs on the individual policy's effective date. (4) Premium will be based on the Dependent's age and the standard rate of The Principal for the policy form to be issued. b. Purchase Qualification A Dependent will qualify for individual purchase if: (1) Dependent Life Insurance, or any portion of it, terminates because he or she ceases to be a Dependent as defined in PART I; or because the Member dies, ends Active Work, or ceases to be in a class eligible for such insurance; or (2) the Dependent spouse's Dependent Life Insurance terminates as described in PART III, Section C; or (3) the Dependent spouse's or Civil Union Partner's Dependent Life Insurance terminates because of divorce or separation or termination of a Civil Union partnership from the Member; or (4) after the Dependent has been continuously insured for Dependent Life Insurance for at least five years, such insurance terminates because the Group Policy terminates, or is amended to eliminate Dependent Life Insurance, or the Member's insurance class; or (5) the Dependent's Life Insurance terminates because the Member's Coverage During Disability as described in PART IV, Section A, ceases because Total Disability ends and the Member does not return to Active Work within 31 days ; or (6) the Dependent's Life Insurance terminates because the Member's Accelerated Benefits Premium Waiver Period as described in PART IV, Section A, ceases and the Member does not qualify for Coverage During Disability. c. Application/Effective Date Notice of the individual purchase right must be given to the Member by the Policyholder before insurance under this Group Policy terminates, or as soon as reasonably possible thereafter. A Dependent must apply for individual purchase and the first premium for the individual policy must be paid to The Principal within 31 days after the date Dependent Life Insurance for the Dependent terminates under this Group Policy. Any individual policy issued will then be in force on the 32nd day after such termination date. d. Individual Policy Amount The amount of insurance that a Dependent may purchase may vary: (1) If termination is as described in b. (1) above, the maximum amount will be the Dependent Life Insurance benefit in force for the Dependent on the date of termination or the portion of Dependent Life Insurance that has terminated, less any individual policy amount purchased earlier under this Article 2. (2) If termination is as described in b. (2), b. (3) or b. (5) or b. (6) above, the maximum amount will be the Dependent Life Insurance benefit in force for the Dependent on the date of termination, less any individual policy amount purchased earlier under this Article 2. (3) If termination is as described in b. (4) above, the maximum amount will be the lesser of: - $10,000; or - the Dependent Life Insurance benefit in force for the Dependent on the date of termination, less the amount for which the Dependent becomes eligible under any group policy within 31 days. "
       },
       {
        "part": "PART IV - BENEFITS",
        "section": "Section  A - Member Life Insurance",
        "article": "Article 1 - Schedule of Insurance",
        "content": "Subject to the Effective Date provisions of PART III, Section B, and the qualifying provisions of this Section A, the Scheduled Benefit for an insured Member will be based on his or her class: Class *Scheduled Benefit ALL MEMBERS $10,000 However, if a Member has received any payments under the Accelerated Benefits provision as described in Section A, Article 7, the Scheduled Benefit will be reduced by the amount of such payment. *The Scheduled Benefit is subject to the Proof of Good Health requirements as shown in PART III, Section B, Article 1. Because of the Proof of Good Health requirements, the amount of insurance approved by The Principal may be different than the Scheduled Benefit. If the approved amount of insurance is different than the Scheduled Benefit, the approved amount will apply. For the age(s) shown below, the amount of a Member's insurance will be the percentage of the Scheduled Benefit (or approved amount, if applicable) as shown below. Age % of Scheduled Benefit (or approved amount, whichever applies) Age 70 but less than age 75 65% Age 75 and over 45% "
       },
       {
        "part": "PART IV - BENEFITS",
        "section": "Section  A - Member Life Insurance",
        "article": "Article 2 - Death Benefits Payable",
        "content": "If a Member dies while insured for Member Life Insurance under this Group Policy, The Principal will pay his or her beneficiary the Scheduled Benefit (or approved amount, if applicable) in force on the date of death, less any Accelerated Benefit payment as described in PART IV, Section A, Article 7. However, if a beneficiary is suspected or charged with the M ember's death, the Death Benefits Payable may be withheld until additional information has been received or the trial has been held. If a Member who was insured dies within the 31-day individual purchase period described in PART III, Section F, The Principal will pay his or her beneficiary the individual policy amount, if any, the Member had the right to purchase. No payment will be made before The Principal receives Written proof of the Member's death. "
       },
       {
        "part": "PART IV - BENEFITS",
        "section": "Section  A - Member Life Insurance",
        "article": "Article 3 - Beneficiary",
        "content": "A beneficiary should be named at the time a Member applies or enrolls under this Group Policy. A Member may name or later change a named beneficiary by sending a Written request to The Principal. A change will not be effective until recorded by The Principal. Once recorded, the change will apply as of the date the request was Signed. If The Principal properly pays any benefit before a change request is received, that payment may not be contested. Further: a. The naming of a new beneficiary in an application for individual purchase under PART III, Section F, Article 1, will be treated as a beneficiary change request under this Group Policy. b. If a Member's terminated insurance is reinstated, his or her beneficiary will be as recorded on the date of termination. If a Member is insured under this Group Policy on its Date of Issue and this insurance replaces insurance in force on the day immediately before the Date of Issue, the beneficiary named in such replaced insurance and recorded by the Policyholder or The Principal will be the beneficiary under this Group Policy until a new beneficiary is named. "
       },
       {
        "part": "PART IV - BENEFITS",
        "section": "Section  A - Member Life Insurance",
        "article": "Article 4 - Facility of Payment",
        "content": "If any of the below occur, benefits will be paid as stated. All such payments will discharge The Principal to the full extent of those payments. a. If a beneficiary is found guilty of the Member's death, such beneficiary may be disqualified from receiving any benefit due. Payment may then be made to any contingent beneficiary or to the executor or administrator of the Member's estate. b. Any benefit due a beneficiary who dies before the Member's death will be paid in equal shares to the Member's surviving beneficiaries. c . If a beneficiary dies at the same time or within 15 days after the Member dies, but before The Principal receives Written proof of the Member's death, payment will be made as if the Member survived the beneficiary. d. If no beneficiary survives the Member or if the Member has not named a beneficiary, payment will be made in the following order of precedence as numbered: (1) to the Member's spouse; (2) to the Member's children born to or legally adopted by the Member; (3) to the Member's parents; (4) to the Member's brothers and sisters; or (5) if none of the above, to the executor or administrator of the Member's estate. e. If The Principal believes a person is not legally able to give a valid receipt, as determined by The Principal, for a payment, and no guardian has been appointed, The Principal may pay whoever has assumed the care and support of the person. "
       },
       {
        "part": "PART IV - BENEFITS",
        "section": "Section  A - Member Life Insurance",
        "article": "Article 5 - Settlement of Proceeds",
        "content": "When The Principal receives Written proof of the Member's death, the Scheduled Benefit (or approved amount, if applicable) in force for the Member, less any Accelerated Benefit payment as described in PART IV, Section A, Article 7 will be placed in an interest-bearing draft account at an interest rate determined by The Principal, unless a lump sum or other settlement option has been elected. With the interest-bearing draft account, the balance will be available to the beneficiary at any time, in total or in part, subject to the following terms: a. withdrawals must be made by draft furnished by The Principal; and b. the draft amount must be at least $500 or more and may not exceed the account balance; and c. if the account balance falls below $500, the balance will be paid to the beneficiary in a lump sum and the account closed; and d. the account cannot be assigned or used as collateral. The Interest Draft Account will not be available if the Scheduled Benefit amount payable is $5,000 or less; or if the beneficiary is anything other than a natural person. In these instances, a lump sum payment will be made. In the event the Interest Draft Account is not available or otherwise does not apply, The Principal reserves the right to make payment of proceeds according to other settlement options if agreed to, in Writing, by The Principal. Payment of benefits will be subject to the Beneficiary and Facility of Payment provisions of this PART IV, Section A. "
       },
       {
        "part": "PART IV - BENEFITS",
        "section": "Section  A - Member Life Insurance",
        "article": "Article 6 - Member Life Insurance - Coverage During Disability",
        "content": "A Member may be eligible to continue his or her Member Life and Member Accidental Death and Dismemberment Insurance and Dependent Life Insurance coverage during the Member's ADL Disability or Total Disability. a. Coverage Qualification To be qualified for Coverage During Disability, a Member must: (1) become ADL Disabled or Totally Disabled while insured for Member Life Insurance; and (2) become ADL Disabled or Totally Disabled prior to the attainment of age 60; and (3) remain ADL Disabled or Totally Disabled continuously; and (4) be under the regular care and attendance of a Physician; and (5) send proof of ADL Disability or Total Disability to The Principal when required; and (6) submit to Medical Examinations or Evaluations when required; and (7) return to The Principal, without claim, any individual policy issued under his or her Individual Purchase Rights as described in PART III, Section F, Article 1. Upon return of such policy, The Principal will refund premiums paid, less dividends and less any outstanding policy loan balance. b. Proof of ADL Disability or Total Disability Written proof of ADL Disability or Total Disability must be sent to The Principal within one year of the date ADL Disability or Total Disability begins. Further proof that ADL Disability or Total Disability has not ended must be sent when The Principal requires. After ADL Disability or Total Disability has continued for two years from the date the first proof is received, The Principal may not ask for further proof more than once each year. If the Member dies while ADL Disabled or Totally Disabled, final proof that ADL Disability or Total Disability continued to the date of death must be sent to The Principal. If death occurs within one year of the start of ADL Disability or Total Disability, but before The Principal has received first proof, then final proof must be sent within one year of the date ADL Disability or Total Disability began. c. Medical Examinations and Evaluations The Principal may require that a ADL Disabled or Totally Disabled Member be examined by a Physician or undergo an evaluation, at reasonable intervals, during the course of a claim. After ADL Disability or Total Disability has continued two years from the date first proof of ADL Disability or Total Disability is received, examinations or evaluations may not be required more than once each year. The Principal will pay for these examinations and evaluations and will choose the Physician or evaluator to perform them. Failure to attend a medical examination or cooperate with the Physician may be cause for denial of the Member's benefits. Failure to attend an evaluation or to cooperate with the evaluator may also be cause for denial of the Member's benefits. If the Member fails to attend an examination or an evaluation, any charges incurred for not attending an appointment as scheduled may be his or her responsibility. d. Effective Dates and Premium Waiver Coverage During Disability will be effective for a qualified Member on the earliest of: (1) the date nine months after the date the Member becomes Totally Disabled; or (2) the date one month after the date the Member becomes ADL Disabled; or (3) the date the Member dies. Premium will not be charged for Member Life and Member Accidental Death and Dismemberment Insurance and Dependent Life Insurance while the Member's Coverage During Disability is in force. e. Benefits Payable If death occurs while Coverage During Disability is in force, The Principal will pay the Member's beneficiary the Member Life Insurance benefit amount that would have been paid had the Member remained insured under the Schedule of Insurance in force on the date Total Disability began. Such benefit shall be subject to any reduction provided under the Schedule of Insurance. However, NO BENEFIT WILL BE PAID if Written proof of ADL Disability or Total Disability is not sent to The Principal within one year of the date ADL Disability or Total Disability began. Failure to give Written proof within the time specified will not invalidate or reduce any claim if Written proof is given as soon as reasonably possible. Further, if a death benefit is paid under this section of the Group Policy, it will be in place of all other Member Life Insurance benefits provided under this Group Policy. f. Termination (Premium Waiver) Coverage During Disability will cease on the earliest of: (1) the date the Member's Total Disability ends; or (2) the date the Member fails to send The Principal any required proof of ADL Disability or Total Disability; or (3) the date the Member ceases to be under the regular care and attendance of a Physician; or (4) the date the Member fails to submit to a required Medical Examination or Evaluation; or (5) the date the Member attains age 70. g. Limitations No benefits will be paid for any disability that: (1) results from willful self-injury or self-destruction, while sane or insane; or (2) results from war or act of war; or (3) results from voluntary participation in an assault, felony, criminal activity, insurrection, or riot. "
       },
       {
        "part": "PART IV - BENEFITS",
        "section": "Section  A - Member Life Insurance",
        "article": "Article 7 - Accelerated Benefits",
        "content": "a. Accelerated Benefits Qualification To be qualified for an Accelerated Benefit payment, a Member must: (1) be Terminally Ill and insured for a Member Life Insurance benefit of at least $10,000; and (2) send a request for Accelerated Benefit payment to The Principal; and (3) provide proof satisfactory to The Principal that he or she is Terminally Ill. b. Proof of Terminal Illness Proof that a Member is Terminally Ill will consist of: (1) a statement from the Member's Physician; and (2) any other medical information that The Principal believes necessary to confirm the Member's status. c. Benefit Payable The Principal will pay a Member who is qualified for Accelerated Benefits whatever amount he or she requests; except that: (1) only one Accelerated Benefit payment will be made during the Member's lifetime; and (2) the amount requested must be at least $5,000; and (3) in no event will payment exceed the lesser of: - 75% of the Member Life Insurance benefit in force on the date of the request; or - $250,000. The Accelerated Benefit payment will be made in a lump sum. d. Effect on Member Life Insurance Benefits If an Accelerated Benefit is paid, the Member Life Insurance Benefit otherwise payable upon the Member's death will be reduced by any Accelerated Benefit payment. e. Premium Waiver Period A premium waiver period will be established on the date The Principal pays an Accelerated Benefit to a Member. This period will end on the earlier of the Member's death or the date two years after the date of the Accelerated Benefit. During a premium waiver period: (1) there will be no Member Life and Member Accidental Death and Dismemberment Insurance and Dependent Life Insurance premium charge for the Member; and (2) Member Life Insurance will not be terminated if the Member ceases Active Work because of his or her Terminal Illness. "
       },
       {
        "part": "PART IV - BENEFITS",
        "section": "Section  C - Dependent Life Insurance",
        "article": "Article 1 - Schedule of Insurance",
        "content": "Subject to the Effective Date provisions of PART III, Section B, the Scheduled Benefit for an insured Dependent will be based on the status of the Dependent: Class ALL MEMBERS Dependent *Scheduled Benefit Spouse $5,000 Children (age at death) 0 days old but less than 6 months $1,000 6 months and older $2,000 *The Scheduled Benefit is subject to the Proof of Good Health requirements as shown in PART III, Section B, Article 1. Because of the Proof of Good Health requirements, the amount of insurance approved by The Principal may be different than the Scheduled Benefit. If the approved amount of insurance is different than the Scheduled Benefit, the approved amount will apply. In no event will a Dependent's Scheduled Benefit be more than 50% of the Member's Scheduled Benefit amount. If a Member elects a Dependent Life benefit in excess of 50% of the Member's Scheduled Benefit amount, the Dependent will be given the highest amount available, not to exceed 50%. "
       },
       {
        "part": "PART IV - BENEFITS",
        "section": "Section  C - Dependent Life Insurance",
        "article": "Article 2 - Death Benefits Payable",
        "content": "If a Dependent dies while insured for Dependent Life Insurance under this Group Policy, The Principal will pay the Scheduled Benefit (or approved amount, if applicable) in force for that Dependent on the date of death. I f a Dependent who was insured dies during the 31-day individual purchase period described in PART III, Section F, Article 2, The Principal will pay the individual policy amount, if any, the Dependent had the right to purchase. Unless a Beneficiary has been designated, payment will be to the Member if he or she survives the Dependent. If the Member does not survive the Dependent and a beneficiary for Dependent Life has not been named, payment will be to the person named as beneficiary for Member Life Insurance. However, if the Member is suspected or charged with the Dependent's death, the Death Benefits Payable may be withheld until additional information has been received or the trial has been held. If the Member is found guilty of the Dependent's death, he or she may be disqualified from receiving any benefit due. Payment may then be made to the executor or administrator of the Dependent's estate. Payment will be subject to the Beneficiary provisions in Article 3 and the Facility of Payment and Settlement of Proceeds provisions of PART IV, Section A. No payment will be made before The Principal receives Written proof of the Dependent's death. "
       },
       {
        "part": "PART IV - BENEFITS",
        "section": "Section  C - Dependent Life Insurance",
        "article": "Article 3 - Beneficiary",
        "content": "A Member may name or later change a named beneficiary by sending a Written request to The Principal. A change will not be effective until recorded by The Principal. Once recorded, the change will apply as of the date the request was Signed. If The Principal properly pays any benefit before a change request is received, that payment may not be contested. "
       },
       {
        "part": "PART IV - BENEFITS",
        "section": "Section  D - Claim Procedures",
        "article": "Article 1 - Notice of Claim",
        "content": "Written notice must be sent to The Principal by or for a Member or Dependent who wishes to file claim for benefits under this Group Policy. This notice must be sent within 20 days after the date of the loss for which claim is being made. Failure to give notice within the time specified will not invalidate or reduce any claim if notice is given as soon as reasonably possible. "
       },
       {
        "part": "PART IV - BENEFITS",
        "section": "Section  D - Claim Procedures",
        "article": "Article 2 - Claim Forms",
        "content": "The Principal, when it receives notice of claim, will provide appropriate claim forms for filing proof of loss. If the forms are not provided within 15 days after The Principal receives notice, the person will be considered to have complied with the requirements of this Group Policy upon submitting, within the time specified below for filing proof of loss, Written proof covering the occurrence, character, and extent of the loss. "
       },
       {
        "part": "PART IV - BENEFITS",
        "section": "Section  D - Claim Procedures",
        "article": "Article 3 - Proof of Loss",
        "content": "Written proof of loss must be sent to The Principal within 90 days after the date of the loss. Proof required includes the date, nature, and extent of the loss. The Principal may request additional information to substantiate loss or require a Signed unaltered authorization to obtain that information from the provider. Failure to comply with the request of The Principal could result in declination of the claim. For purposes of satisfying the claims processing timing requirements of the Employee Retirement Income Security Act (ERISA), receipt of claim will be considered to be met when the appropriate claim form is received by The Principal. "
       },
       {
        "part": "PART IV - BENEFITS",
        "section": "Section  D - Claim Procedures",
        "article": "Article 4 - Payment, Denial, and Review",
        "content": "ERISA permits up to 45 days from receipt of claim for processing the claim. If a claim cannot be processed due to incomplete information, The Principal will send a Written explanation prior to the expiration of the 45 days. The claimant is then allowed up to 45 days to provide all additional information requested. The Principal is permitted two 30-day extensions for processing an incomplete claim. Written notification will be sent to the claimant regarding the extension. In actual practice, benefits under this Group Policy will be payable sooner, provided The Principal receives complete and proper proof of loss. Further, if a claim is not payable or cannot be processed, The Principal will submit a detailed explanation of the basis for its denial. A claimant may request an appeal of a claim denial by Written request to The Principal within 180 days of receipt of notice of the denial. The Principal will make a full and fair review of the claim. The Principal may require additional information to make the review. The Principal will notify the claimant in Writing of the appeal decision within 45 days after receipt of the appeal request. If the appeal cannot be processed within the 45-day period because The Principal did not receive the requested additional information, The Principal is permitted a 45-day extension for the review. Written notification will be sent to the claimant regarding the extension. After exhaustion of the formal appeal process, the claimant may request an additional appeal. However, this appeal is voluntary and does not need to be filed before asserting rights to legal action. For purposes of this section, \"claimant\" means Member, Dependent, or Beneficiary. "
       },
       {
        "part": "PART IV - BENEFITS",
        "section": "Section  D - Claim Procedures",
        "article": "Article 5 - Medical Examinations",
        "content": "The Principal may have the Member or Dependent whose loss is the basis for claim, be examined by a Physician during the course of a claim. The Principal will pay for these examinations and will choose the Physician to perform them. "
       },
       {
        "part": "PART IV - BENEFITS",
        "section": "Section  D - Claim Procedures",
        "article": "Article 6 - Autopsy",
        "content": "If payment for loss of life is claimed, The Principal may require an autopsy. The Principal will pay for any such autopsy. "
       },
       {
        "part": "PART IV - BENEFITS",
        "section": "Section  D - Claim Procedures",
        "article": "Article 7 - Legal Action",
        "content": "Legal action to recover benefits under this Group Policy may not be started earlier than 90 days after required proof of loss has been filed and before the appeal procedures have been exhausted. Further, no legal action may be started later than three years after that proof is required to be filed. "
       },
       {
        "part": "PART IV - BENEFITS",
        "section": "Section  D - Claim Procedures",
        "article": "Article 8 - Time Limits",
        "content": "Any time limits in this section will be adjusted as required by law. "
       }
      ]
     },
     "execution_count": 25,
     "metadata": {
      "application/json": {
       "expanded": false,
       "root": "root"
      }
     },
     "output_type": "execute_result"
    }
   ],
   "execution_count": 25
  },
  {
   "metadata": {},
   "cell_type": "markdown",
   "source": "# Persisting in Qdrant DB",
   "id": "7eb5d596d2eefb8e"
  },
  {
   "metadata": {
    "ExecuteTime": {
     "end_time": "2025-04-27T17:19:53.957346Z",
     "start_time": "2025-04-27T17:19:27.707032Z"
    }
   },
   "cell_type": "code",
   "source": [
    "from sentence_transformers import SentenceTransformer\n",
    "\n",
    "# now we need a model to generate embeddings\n",
    "sentence_embedding_model_name = \"all-MiniLM-L6-v2\"\n",
    "sentence_embedding_model = SentenceTransformer(sentence_embedding_model_name)"
   ],
   "id": "7645c55ffaf3ee32",
   "outputs": [],
   "execution_count": 27
  },
  {
   "metadata": {
    "ExecuteTime": {
     "end_time": "2025-04-27T17:25:42.162453Z",
     "start_time": "2025-04-27T17:25:41.766775Z"
    }
   },
   "cell_type": "code",
   "source": [
    "points = [{\n",
    "    \"id\" : i,\n",
    "    \"vector\": sentence_embedding_model.encode(document[\"content\"]),\n",
    "    \"payload\": {\n",
    "        \"part\": document[\"part\"],\n",
    "        \"section\": document[\"section\"],\n",
    "        \"article\": document[\"article\"],\n",
    "        \"content\": document[\"content\"],\n",
    "        \"text_length\": len(document[\"content\"])\n",
    "    }\n",
    "} for i,document in enumerate(documents)]"
   ],
   "id": "e7e23133231bf2f0",
   "outputs": [],
   "execution_count": 35
  },
  {
   "metadata": {
    "ExecuteTime": {
     "end_time": "2025-04-27T17:25:51.658205Z",
     "start_time": "2025-04-27T17:25:51.514426Z"
    }
   },
   "cell_type": "code",
   "source": [
    "from qdrant_client import QdrantClient\n",
    "client = QdrantClient(\n",
    "    host = 'localhost',\n",
    "    port = 6333\n",
    ")\n",
    "client.delete_collection(\n",
    "    collection_name = \"life_insurance_policy_documents\"\n",
    ")\n",
    "client.create_collection(\n",
    "    collection_name = \"life_insurance_policy_documents\",\n",
    "    vectors_config = {\n",
    "            \"size\": 384,\n",
    "            \"distance\": \"Cosine\"\n",
    "    }\n",
    ")\n",
    "client.upsert(\n",
    "    collection_name = \"life_insurance_policy_documents\",\n",
    "    points = points\n",
    ")"
   ],
   "id": "37478505c4b4f23b",
   "outputs": [
    {
     "data": {
      "text/plain": [
       "UpdateResult(operation_id=0, status=<UpdateStatus.COMPLETED: 'completed'>)"
      ]
     },
     "execution_count": 37,
     "metadata": {},
     "output_type": "execute_result"
    }
   ],
   "execution_count": 37
  },
  {
   "metadata": {
    "ExecuteTime": {
     "end_time": "2025-04-27T17:39:32.600161Z",
     "start_time": "2025-04-27T17:39:32.267428Z"
    }
   },
   "cell_type": "code",
   "source": [
    "query_response = client.query_points(\n",
    "    collection_name = \"life_insurance_policy_documents\",\n",
    "    query = sentence_embedding_model.encode(\"who has the authority to change the policy?\"),\n",
    "    limit = 5,\n",
    "    with_payload = True)"
   ],
   "id": "7b4a4aad78c23124",
   "outputs": [],
   "execution_count": 41
  },
  {
   "metadata": {
    "ExecuteTime": {
     "end_time": "2025-04-27T17:39:34.485239Z",
     "start_time": "2025-04-27T17:39:34.481397Z"
    }
   },
   "cell_type": "code",
   "source": "query_response",
   "id": "efd572b13c0eb183",
   "outputs": [
    {
     "data": {
      "text/plain": [
       "QueryResponse(points=[ScoredPoint(id=1, version=0, score=0.5939084, payload={'part': 'PART II - POLICY ADMINISTRATION', 'section': 'Section  A - Contract', 'article': 'Article 2 - Policy Changes', 'content': \"Insurance under this Group Policy runs annually to the Policy Anniversary, unless sooner terminated. No agent, employee, or person other than an officer of The Principal has authority to change this Group Policy, and, to be effective, all such changes must be in Writing and Signed by an officer of The Principal. The Principal reserves the right to change this Group Policy as follows: a. Any or all provisions of this Group Policy may be amended or changed at any time, including retroactive changes, to the extent necessary to meet the requirements of any law or any regulation issued by any governmental agency to which this Group Policy is subject. b. Any or all provisions of this Group Policy may be amended or changed at any time when The Principal determines that such amendment is required for consistent application of policy provisions. c. By Written agreement between The Principal and the Policyholder, this Group Policy may be amended or changed at any time as to any of its provisions. Any change to this Group Policy, including, but not limited to, those in regard to coverage, benefits, and participation privileges, may be made without the consent of any Member or Dependent. Payment of premium beyond the effective date of the change constitutes the Policyholder's consent to the change. \", 'text_length': 1308}, vector=None, shard_key=None, order_value=None), ScoredPoint(id=9, version=0, score=0.47650385, payload={'part': 'PART II - POLICY ADMINISTRATION', 'section': 'Section  A - Contract', 'article': 'Article 10 - Policy Interpretation', 'content': 'T he Principal has complete discretion to construe or interpret the provisions of this group insurance policy, to determine eligibility for benefits, and to determine the type and extent of benefits, if any, to be provided. The decisions of The Principal in such matters shall be controlling, binding and final as between The Principal and persons covered by this Group Policy, subject to the Claims Procedures in PART IV, Section D. ', 'text_length': 434}, vector=None, shard_key=None, order_value=None), ScoredPoint(id=5, version=0, score=0.46555924, payload={'part': 'PART II - POLICY ADMINISTRATION', 'section': 'Section  A - Contract', 'article': 'Article 6 - Information to be Furnished', 'content': 'The Policyholder must, upon request, give The Principal all information needed to administer this Group Policy. If a clerical error is found in this information, The Principal may at any time adjust premium to reflect the facts. An error will not invalidate insurance that would otherwise be in force. Neither will an error continue insurance that would otherwise be terminated. The Principal may inspect, at any reasonable time, all Policyholder records, which relate to this Group Policy. ', 'text_length': 491}, vector=None, shard_key=None, order_value=None), ScoredPoint(id=0, version=0, score=0.43675953, payload={'part': 'PART II - POLICY ADMINISTRATION', 'section': 'Section  A - Contract', 'article': 'Article 1 - Entire Contract', 'content': 'This Group Policy, the current Certificate, the attached Policyholder application, and any Member applications make up the entire contract. The Principal is obligated only as provided in this Group Policy and is not bound by any trust or plan to which it is not a signatory party. ', 'text_length': 281}, vector=None, shard_key=None, order_value=None), ScoredPoint(id=13, version=0, score=0.41361672, payload={'part': 'PART II - POLICY ADMINISTRATION', 'section': 'Section  B - Premiums', 'article': 'Article 3 - Premium Rate Changes', 'content': \"The Principal may change a premium rate: a. on any premium due date, if the initial premium rate has then been in force 24 months or more and if Written notice is given to the Policyholder at least 31 days before the date of change; or b . on any date the definition of Member or Dependent is changed; and c. on any date the Policyholder's business, as specified on the Policyholder application, is changed; and d. on any date that a schedule of insurance or class of insured Members is changed; and e. on any premium due date, if the Policyholder has been receiving a multiple policy discount rate and the Policyholder drops below the minimum number of coverages to receive such discount rate; and f. on any date the premium contribution required of Members is changed; and g. with respect to Member Life Insurance, on any Policy Anniversary, if the average age, average Scheduled Benefit amount, or the male/female distribution for then insured Members has changed since the last Policy Anniversary; and h. on any Policy Anniversary, if the volume of insurance for then insured Members has increased or decreased by more than 25% since the last Policy Anniversary. If the Policyholder has other group insurance with The Principal, and if life coverage is initially added on a date other than the Policy Anniversary and it is more than six months before the next Policy Anniversary, The Principal reserves the right to change the premium rate on the next Policy Anniversary. Written notice will be given to the Policyholder at least 31 days before the date of change. If the Policyholder agrees to participate in the electronic services program of The Principal and, at a later date elects to withdraw from participation, such withdrawal may result in certain administrative fees being charged to the Policyholder. \", 'text_length': 1816}, vector=None, shard_key=None, order_value=None)])"
      ]
     },
     "execution_count": 42,
     "metadata": {},
     "output_type": "execute_result"
    }
   ],
   "execution_count": 42
  },
  {
   "metadata": {},
   "cell_type": "code",
   "outputs": [],
   "execution_count": null,
   "source": "",
   "id": "dd1c625d73f38cff"
  }
 ],
 "metadata": {
  "kernelspec": {
   "display_name": "Python 3",
   "language": "python",
   "name": "python3"
  },
  "language_info": {
   "codemirror_mode": {
    "name": "ipython",
    "version": 2
   },
   "file_extension": ".py",
   "mimetype": "text/x-python",
   "name": "python",
   "nbconvert_exporter": "python",
   "pygments_lexer": "ipython2",
   "version": "2.7.6"
  }
 },
 "nbformat": 4,
 "nbformat_minor": 5
}
