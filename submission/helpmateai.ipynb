{
 "cells": [
  {
   "metadata": {},
   "cell_type": "markdown",
   "source": [
    "<div style=\"text-align: center;\">\n",
    "    <h1>Helpmate AI using Qdrant DB</h1>\n",
    "</div>"
   ],
   "id": "b43faf9141f87f8a"
  },
  {
   "cell_type": "markdown",
   "id": "d86b7733-82aa-4710-bd83-47d7268cdc93",
   "metadata": {},
   "source": "# Problem statement"
  },
  {
   "cell_type": "markdown",
   "id": "b3346a22-627a-402a-94e6-039365cd69b6",
   "metadata": {},
   "source": [
    "## Project goal\n",
    "The life insurance policy documents are very elaborate and lengthy. It's a challenge to go through the entire document at once and understand it well.\n",
    "This project provides an easy way to understand the document by asking asking questions and queries to the RAG based application."
   ]
  },
  {
   "metadata": {},
   "cell_type": "markdown",
   "source": [
    "## Project setup\n",
    "- Install poetry for dependency management\n",
    "- Install pyenv for python version management\n",
    "- Install docker and docker-compose to start qdrant db locally\n",
    "- run `docker-compose up -d` to start qdrant db, then view the qdrant dashboard at http://localhost:6333:dashboard\n",
    "- run `poetry install` to install the dependencies\n",
    "- run `poetry shell` to activate the virtual environment\n",
    "- run `jupyter notebook` to start the jupyter notebook server"
   ],
   "id": "17cd2cd94e85dca3"
  },
  {
   "metadata": {},
   "cell_type": "markdown",
   "source": "<div style=\"page-break-after: always;\"></div>",
   "id": "3fe716e23ee2de89"
  },
  {
   "cell_type": "markdown",
   "id": "ad65cc5d-2b26-4ad3-901c-aa91ae3b568e",
   "metadata": {},
   "source": [
    "# Solution Architecture"
   ]
  },
  {
   "cell_type": "markdown",
   "id": "92633c82-3a53-4810-bf5a-73232032d927",
   "metadata": {},
   "source": [
    "## Architecture diagram"
   ]
  },
  {
   "attachments": {},
   "cell_type": "markdown",
   "id": "4be8e3a7-7f48-42c4-aa07-317e4fd83154",
   "metadata": {},
   "source": [
    "![architecture.drawio.png](./architecture.drawio.png)"
   ]
  },
  {
   "metadata": {},
   "cell_type": "markdown",
   "source": "<div style=\"page-break-after: always;\"></div>",
   "id": "b1ead8903d4c82b6"
  },
  {
   "cell_type": "markdown",
   "id": "30325358-a85b-4a28-a18e-98e28c1471ef",
   "metadata": {},
   "source": [
    "## Architecture description & Design choices"
   ]
  },
  {
   "cell_type": "markdown",
   "id": "84d27b99-6023-4c6b-a815-ef72a8c484d7",
   "metadata": {
    "jp-MarkdownHeadingCollapsed": true
   },
   "source": [
    "### Vector Embedding Pipeline\n",
    "\n",
    "1. **Read from disk**  \n",
    "   Load the PDF policy document.\n",
    "\n",
    "2. **Filter useful pages**  \n",
    "   Retain only pages with meaningful content (those which are within a part and section).\n",
    "\n",
    "3. **Read pages**  \n",
    "   Extract text content using a PDF parser (using `pdfplumber`).\n",
    "\n",
    "4. **Chunk by part/section**  \n",
    "   Split document hierarchically to maintain structure.\n",
    "\n",
    "5. **Chunk by part/section/article**  \n",
    "   Finer-level segmentation for better retrieval precision.\n",
    "\n",
    "6. **Embed content**  \n",
    "   Use sentence embedding model (`all-MiniLM-L6-v2`).\n",
    "\n",
    "7. **Add metadata**  \n",
    "   Attach `part`, `section`, and `article` as payload.\n",
    "\n",
    "---\n",
    "\n",
    "### Qdrant Vector DB\n",
    "\n",
    "8. **Create `document collection`**  \n",
    "   Stores all document chunks with embeddings and metadata.\n",
    "\n",
    "9. **Create `document collection cache`**  \n",
    "   Stores previously seen query results for reuse.\n",
    "\n",
    "10. **Embed points**  \n",
    "    Vectorized chunks are inserted into the main collection.\n",
    "\n",
    "---\n",
    "\n",
    "### Semantic Search & Caching\n",
    "\n",
    "11. **`search(query)`**\n",
    "    - Checks `cache` collection first.\n",
    "    - If found → return cached result.\n",
    "    - If not → search main `document collection`.\n",
    "\n",
    "12. **Update cache**  \n",
    "    Stores new query + result in cache for future reuse.\n",
    "\n",
    "13. **Retrieve `relevant_context`**  \n",
    "    Search result passed back to main app for response generation.\n",
    "\n",
    "---\n",
    "\n",
    "### Re-ranking\n",
    "\n",
    "14. **Re-rank results**  \n",
    "    Use a cross-encoder (e.g., `ms-marco-MiniLM`) to refine ranking.\n",
    "\n",
    "15. **Select top 3**  \n",
    "    Final `top_3_context` chosen for LLM prompt.\n",
    "\n",
    "\n",
    "---\n",
    "\n",
    "### Generation Flow\n",
    "\n",
    "16. **User sends query**  \n",
    "    A natural language question is submitted.\n",
    "\n",
    "17. **Main program dispatches search**  \n",
    "    Sends query to semantic search module.\n",
    "\n",
    "18. **Send to OpenAI**  \n",
    "    Passes `query` + `relevant_context` to OpenAI for generation.\n",
    "\n",
    "---\n"
   ]
  },
  {
   "metadata": {},
   "cell_type": "markdown",
   "source": "<div style=\"page-break-after: always;\"></div>",
   "id": "3c2adbe3bd690e85"
  },
  {
   "cell_type": "markdown",
   "id": "673ecee8-21cf-4969-ad3c-99c4a60a8206",
   "metadata": {},
   "source": [
    "## Solution Implementation"
   ]
  },
  {
   "cell_type": "markdown",
   "id": "d70ddceb-2377-4f21-b9f2-d099808641c1",
   "metadata": {},
   "source": [
    "### Imports\n",
    "\n",
    "import all the required libraries and modules"
   ]
  },
  {
   "cell_type": "code",
   "id": "df30954f-243e-4678-bcf3-9d357b3a5c30",
   "metadata": {
    "ExecuteTime": {
     "end_time": "2025-04-30T17:29:20.795873Z",
     "start_time": "2025-04-30T17:29:13.162162Z"
    }
   },
   "source": [
    "from IPython.display import JSON, Markdown, display\n",
    "import pdfplumber\n",
    "from sentence_transformers import SentenceTransformer, CrossEncoder\n",
    "from qdrant_client import QdrantClient\n",
    "from hashlib import sha256\n",
    "import pandas as pd\n",
    "import openai\n",
    "import json\n",
    "import ast\n"
   ],
   "outputs": [],
   "execution_count": 1
  },
  {
   "cell_type": "markdown",
   "id": "2ca76cbd-00e4-4738-8472-f737c9c9f030",
   "metadata": {},
   "source": [
    "### Embedding Layer"
   ]
  },
  {
   "cell_type": "markdown",
   "id": "f46c8cc2-5dbe-4f1d-8039-a3a1c5f83645",
   "metadata": {},
   "source": [
    "#### Text Processing\n",
    "- **is_useful_page**: Filters out pages that are not relevant.\n",
    "- **get_part**: Extracts the part from the text.\n",
    "- **get_section**: Extracts the section from the text.\n",
    "- **process_document**: Reads the PDF and organizes the text into a structured format."
   ]
  },
  {
   "cell_type": "code",
   "id": "dffc5dff-ea3f-48be-a787-cb0f942c3f12",
   "metadata": {
    "scrolled": true,
    "ExecuteTime": {
     "end_time": "2025-04-30T17:29:21.036481Z",
     "start_time": "2025-04-30T17:29:21.033794Z"
    }
   },
   "source": [
    "pdf_document_file_path = \"./Life Insurance Policy Sample.pdf\"\n",
    "\n",
    "def is_useful_page(text):\n",
    "    return \"Section\" in text.strip().splitlines()[-1]\n",
    "\n",
    "def get_part(text):\n",
    "    return text.strip().splitlines()[-2]\n",
    "\n",
    "def get_section(text):\n",
    "    last_line = text.strip().splitlines()[-1]\n",
    "    section_with_page_number = \"Section \" + last_line.split(\"Section\")[1]\n",
    "    return section_with_page_number.split(\"Page\")[0].strip().split(\",\")[0].strip()\n",
    "\n",
    "def process_document(document_path):\n",
    "    data = {}\n",
    "\n",
    "    with pdfplumber.open(document_path) as pdf:\n",
    "        for page in pdf.pages:\n",
    "            full_text = page.extract_text()\n",
    "            if is_useful_page(full_text):\n",
    "                part                = get_part(full_text)\n",
    "                section             = get_section(full_text)\n",
    "    \n",
    "                if part not in data:\n",
    "                    data[part] = {}\n",
    "                data_part = data[part]\n",
    "    \n",
    "                if section not in data_part:\n",
    "                    data_part[section] = []\n",
    "                data_part_section = data_part[section]\n",
    "    \n",
    "                data_part_section.extend(full_text.splitlines())\n",
    "    return data\n",
    "\n",
    "# JSON(process_document(pdf_document_file_path))"
   ],
   "outputs": [],
   "execution_count": 2
  },
  {
   "cell_type": "markdown",
   "id": "165bc09f-13dc-41f5-b530-4b91279d56e0",
   "metadata": {},
   "source": [
    "#### Chunking\n",
    "- **is_not_same**: Compares two strings to check if they are not the same (ignoring case and spaces).\n",
    "- **get_chunks**: Processes the structured data to create chunks of text, each associated with a part, section, and article."
   ]
  },
  {
   "cell_type": "code",
   "id": "2a041eff-389b-4dd4-b5ee-fc86fbd8ba1c",
   "metadata": {
    "ExecuteTime": {
     "end_time": "2025-04-30T17:29:21.043989Z",
     "start_time": "2025-04-30T17:29:21.041444Z"
    }
   },
   "source": [
    "def is_not_same(left, right):\n",
    "    return left.replace(\" \", \"\").lower() not in right.replace(\" \", \"\").lower()\n",
    "\n",
    "def get_chunks(data):\n",
    "    documents = []\n",
    "    for part,part_detail in data.items():\n",
    "        for section, section_detail in part_detail.items():\n",
    "            article = \"\"\n",
    "            article.replace(\" \", \"\").lower()\n",
    "            content = \"\"\n",
    "            for line in section_detail:\n",
    "                if is_not_same(part, line) and is_not_same(section, line) and is_not_same(\"This policy has been updated effective\", line):\n",
    "                    if \"Article \" in line and \" - \" in line:\n",
    "                        if article and content:\n",
    "                            documents.append({\n",
    "                                \"part\": part,\n",
    "                                \"section\": section,\n",
    "                                \"article\": article,\n",
    "                                \"content\": content\n",
    "                            })\n",
    "                        article = line\n",
    "                        content = \"\"\n",
    "                        continue\n",
    "                    else:\n",
    "                        content += line + \" \"\n",
    "                else:\n",
    "                    continue\n",
    "    \n",
    "            # Append the last article and content\n",
    "            if article and content:\n",
    "                documents.append({\n",
    "                    \"part\": part,\n",
    "                    \"section\": section,\n",
    "                    \"article\": article,\n",
    "                    \"content\": content\n",
    "                })\n",
    "    return documents"
   ],
   "outputs": [],
   "execution_count": 3
  },
  {
   "cell_type": "markdown",
   "id": "6b2b3df6-abcb-4961-ad23-43b946b31336",
   "metadata": {},
   "source": [
    "#### Embedding Logic\n",
    "- **get_embeddable_points**: Converts the chunks into a format suitable for embedding, including vector representation and metadata."
   ]
  },
  {
   "cell_type": "code",
   "id": "56abb649-4709-4cf6-a3c8-d7295e662a93",
   "metadata": {
    "ExecuteTime": {
     "end_time": "2025-04-30T17:29:24.226823Z",
     "start_time": "2025-04-30T17:29:21.048612Z"
    }
   },
   "source": [
    "sentence_embedding_model_name = \"all-MiniLM-L6-v2\"\n",
    "sentence_embedding_model = SentenceTransformer(sentence_embedding_model_name)\n",
    "\n",
    "def get_embeddable_points(chunks):\n",
    "    points = [{\n",
    "        \"id\" : i,\n",
    "        \"vector\": sentence_embedding_model.encode(chunk[\"content\"]),\n",
    "        \"payload\": {\n",
    "            \"part\": chunk[\"part\"],\n",
    "            \"section\": chunk[\"section\"],\n",
    "            \"article\": chunk[\"article\"],\n",
    "            \"content\": chunk[\"content\"],\n",
    "            \"text_length\": len(chunk[\"content\"])\n",
    "        }\n",
    "    } for i,chunk in enumerate(chunks)]\n",
    "    return points"
   ],
   "outputs": [],
   "execution_count": 4
  },
  {
   "cell_type": "markdown",
   "id": "2f065d98-479b-4381-930d-36bea6994a0b",
   "metadata": {},
   "source": [
    "#### Prepare Vector DB\n",
    "- **QdrantClient**: Connects to the Qdrant database.\n",
    "- **delete_collection**: Deletes any existing collections to start fresh.\n",
    "- **create_collection**: Creates a new collection for storing the document chunks."
   ]
  },
  {
   "cell_type": "code",
   "id": "7eb35331-99d9-4e4c-86e8-06031472b836",
   "metadata": {},
   "source": [
    "client = QdrantClient(\n",
    "    host = 'localhost',\n",
    "    port = 6333\n",
    ")\n",
    "\n",
    "client.delete_collection(\n",
    "    collection_name = \"life_insurance_policy_documents\"\n",
    ")\n",
    "\n",
    "client.create_collection(\n",
    "    collection_name = \"life_insurance_policy_documents\",\n",
    "    vectors_config = {\n",
    "            \"size\": 384,\n",
    "            \"distance\": \"Cosine\"\n",
    "    }\n",
    ")\n",
    "\n",
    "client.delete_collection(\n",
    "    collection_name = \"life_insurance_policy_documents_cache\"\n",
    ")\n",
    "client.create_collection(\n",
    "    collection_name = \"life_insurance_policy_documents_cache\",\n",
    "    vectors_config = {\n",
    "            \"size\": 384,\n",
    "            \"distance\": \"Cosine\"\n",
    "    }\n",
    ")"
   ],
   "outputs": [],
   "execution_count": null
  },
  {
   "cell_type": "markdown",
   "id": "0396048e-b4be-4978-a36b-1b4948fb1d20",
   "metadata": {},
   "source": [
    "##### output\n",
    "- **empty_collections.png**: Shows the empty collections in Qdrant."
   ]
  },
  {
   "attachments": {},
   "cell_type": "markdown",
   "id": "490945b4-767d-4c84-8eb4-c42805e9802b",
   "metadata": {},
   "source": [
    "![empty_collections.png](./empty_collections.png)"
   ]
  },
  {
   "cell_type": "markdown",
   "id": "152d88a1-f234-4d45-832b-e3010a18078c",
   "metadata": {},
   "source": [
    "#### Embedding the chunks\n",
    "- **upsert**: Inserts the chunks into the Qdrant collection."
   ]
  },
  {
   "cell_type": "code",
   "id": "2630635e-a7a5-4635-b6cd-08f37878dd11",
   "metadata": {
    "scrolled": true
   },
   "source": [
    "part_section_data = process_document(pdf_document_file_path)\n",
    "chunks = get_chunks(part_section_data)\n",
    "embeddable_points = get_embeddable_points(chunks)\n",
    "\n",
    "client.upsert(\n",
    "    collection_name = \"life_insurance_policy_documents\",\n",
    "    points = embeddable_points\n",
    ")"
   ],
   "outputs": [],
   "execution_count": null
  },
  {
   "cell_type": "markdown",
   "id": "0d758cf4-e36c-4413-9899-7cbd57cb5ceb",
   "metadata": {},
   "source": [
    "##### output\n",
    "- **filled_collection.png**: Shows the filled collection in Qdrant."
   ]
  },
  {
   "attachments": {},
   "cell_type": "markdown",
   "id": "411abb34-4872-4ced-9406-8b325943a207",
   "metadata": {},
   "source": [
    "![filled_collection.png](filled_collection.png)"
   ]
  },
  {
   "metadata": {},
   "cell_type": "markdown",
   "source": "<div style=\"page-break-after: always;\"></div>",
   "id": "20e61909bec3d7c3"
  },
  {
   "cell_type": "markdown",
   "id": "9d3cb14f-2307-4706-8a5e-e05dbc9b0a72",
   "metadata": {},
   "source": [
    "### Search Layer"
   ]
  },
  {
   "cell_type": "markdown",
   "id": "572e6071-d0ce-4c37-834c-beea562fbf25",
   "metadata": {},
   "source": [
    "#### Search & Cache\n",
    "- **hash_query**: Generates a hash for the query string.\n",
    "- **save_to_cache**: Saves the query and its results to the cache collection.\n",
    "- **query_cache_collection**: Queries the cache collection for previously seen queries.\n",
    "- **query_collection**: Queries the main collection for the given query.\n",
    "- **search**: Main function that checks the cache first, then queries the main collection if not found."
   ]
  },
  {
   "cell_type": "code",
   "id": "20a2f9c2-c063-4424-9db2-6b69cc3e9dff",
   "metadata": {
    "ExecuteTime": {
     "end_time": "2025-04-30T17:29:27.660456Z",
     "start_time": "2025-04-30T17:29:27.656967Z"
    }
   },
   "source": [
    "def hash_query(query: str) -> str:\n",
    "    return sha256(query.encode()).hexdigest()\n",
    "\n",
    "def save_to_cache(query: str, points: list) -> None:\n",
    "    query_embedding = sentence_embedding_model.encode(query)\n",
    "    query_hash = hash_query(query)\n",
    "    client.upsert(\n",
    "        collection_name = \"life_insurance_policy_documents_cache\",\n",
    "        points = [{\n",
    "            \"id\": int(query_hash[:16], 16),\n",
    "            \"vector\": query_embedding,\n",
    "            \"payload\": {\n",
    "                \"query\": query,\n",
    "                \"query_hash\": query_hash,\n",
    "                \"points\": points\n",
    "            }\n",
    "        }]\n",
    "    )\n",
    "\n",
    "def query_cache_collection(query: str, limit=5) -> list:\n",
    "    query_hash = hash_query(query)\n",
    "    query_response = client.query_points(\n",
    "        collection_name = \"life_insurance_policy_documents_cache\",\n",
    "        query_filter = {\n",
    "            \"must\" : [\n",
    "                {\"key\": \"query_hash\", \"match\": {\"value\": query_hash}},\n",
    "            ]\n",
    "        },\n",
    "        limit = limit,\n",
    "        with_payload = True\n",
    "    )\n",
    "    points = []\n",
    "    if len(query_response.points) > 0:\n",
    "        points = query_response.points[0].payload['points']\n",
    "    return points\n",
    "\n",
    "def query_collection(query: str, limit=5) -> list:\n",
    "    query_response = client.query_points(\n",
    "        collection_name = \"life_insurance_policy_documents\",\n",
    "        query = sentence_embedding_model.encode(query),\n",
    "        limit = limit,\n",
    "        with_payload = True\n",
    "    )\n",
    "    results = []\n",
    "    [results.append({\n",
    "        \"id\" : point.id,\n",
    "        \"version\": point.version,\n",
    "        \"score\": point.score,\n",
    "        \"part\": point.payload[\"part\"],\n",
    "        \"section\": point.payload[\"section\"],\n",
    "        \"article\": point.payload[\"article\"],\n",
    "        \"content\": point.payload[\"content\"],\n",
    "        \"text_length\": point.payload[\"text_length\"]\n",
    "    }) for point in query_response.points]\n",
    "    return results\n",
    "\n",
    "def search(query: str, limit=3) -> list:\n",
    "    points = query_cache_collection(query, limit)\n",
    "    if len(points) == 0:\n",
    "        points = query_collection(query, limit)\n",
    "        save_to_cache(query, points)\n",
    "        print(\"Cache miss!\")\n",
    "    else:\n",
    "        print(\"Cache hit!\")\n",
    "    return points"
   ],
   "outputs": [],
   "execution_count": 7
  },
  {
   "metadata": {},
   "cell_type": "markdown",
   "source": "<div style=\"page-break-after: always;\"></div>",
   "id": "a6b656d2cb76a65c"
  },
  {
   "cell_type": "markdown",
   "id": "a80145e3-a6f9-4759-b2c5-bd483335ddb5",
   "metadata": {},
   "source": [
    "##### search test\n",
    "- **search**: Searches for the query in the Qdrant collection.\n",
    "- Displays a `Cache miss!`"
   ]
  },
  {
   "cell_type": "code",
   "id": "36b95260-6834-44ef-9e99-59d8493ac3ed",
   "metadata": {
    "ExecuteTime": {
     "end_time": "2025-04-30T17:29:27.728459Z",
     "start_time": "2025-04-30T17:29:27.666557Z"
    }
   },
   "source": "semantic_search_result = search(\"who has the authority to change the policy?\")",
   "outputs": [
    {
     "name": "stdout",
     "output_type": "stream",
     "text": [
      "Cache miss!\n"
     ]
    }
   ],
   "execution_count": 8
  },
  {
   "metadata": {
    "ExecuteTime": {
     "end_time": "2025-04-30T17:29:27.738325Z",
     "start_time": "2025-04-30T17:29:27.735988Z"
    }
   },
   "cell_type": "code",
   "source": [
    "formatted_json = json.dumps(semantic_search_result, indent=2)\n",
    "md = f\"```json\\n{formatted_json}\\n```\"\n",
    "display(Markdown(md))"
   ],
   "id": "8c50a78a6b64e30a",
   "outputs": [
    {
     "data": {
      "text/plain": [
       "<IPython.core.display.Markdown object>"
      ],
      "text/markdown": "```json\n[\n  {\n    \"id\": 1,\n    \"version\": 0,\n    \"score\": 0.5939084,\n    \"part\": \"PART II - POLICY ADMINISTRATION\",\n    \"section\": \"Section  A - Contract\",\n    \"article\": \"Article 2 - Policy Changes\",\n    \"content\": \"Insurance under this Group Policy runs annually to the Policy Anniversary, unless sooner terminated. No agent, employee, or person other than an officer of The Principal has authority to change this Group Policy, and, to be effective, all such changes must be in Writing and Signed by an officer of The Principal. The Principal reserves the right to change this Group Policy as follows: a. Any or all provisions of this Group Policy may be amended or changed at any time, including retroactive changes, to the extent necessary to meet the requirements of any law or any regulation issued by any governmental agency to which this Group Policy is subject. b. Any or all provisions of this Group Policy may be amended or changed at any time when The Principal determines that such amendment is required for consistent application of policy provisions. c. By Written agreement between The Principal and the Policyholder, this Group Policy may be amended or changed at any time as to any of its provisions. Any change to this Group Policy, including, but not limited to, those in regard to coverage, benefits, and participation privileges, may be made without the consent of any Member or Dependent. Payment of premium beyond the effective date of the change constitutes the Policyholder's consent to the change. \",\n    \"text_length\": 1308\n  },\n  {\n    \"id\": 9,\n    \"version\": 0,\n    \"score\": 0.47650385,\n    \"part\": \"PART II - POLICY ADMINISTRATION\",\n    \"section\": \"Section  A - Contract\",\n    \"article\": \"Article 10 - Policy Interpretation\",\n    \"content\": \"T he Principal has complete discretion to construe or interpret the provisions of this group insurance policy, to determine eligibility for benefits, and to determine the type and extent of benefits, if any, to be provided. The decisions of The Principal in such matters shall be controlling, binding and final as between The Principal and persons covered by this Group Policy, subject to the Claims Procedures in PART IV, Section D. \",\n    \"text_length\": 434\n  },\n  {\n    \"id\": 5,\n    \"version\": 0,\n    \"score\": 0.46555924,\n    \"part\": \"PART II - POLICY ADMINISTRATION\",\n    \"section\": \"Section  A - Contract\",\n    \"article\": \"Article 6 - Information to be Furnished\",\n    \"content\": \"The Policyholder must, upon request, give The Principal all information needed to administer this Group Policy. If a clerical error is found in this information, The Principal may at any time adjust premium to reflect the facts. An error will not invalidate insurance that would otherwise be in force. Neither will an error continue insurance that would otherwise be terminated. The Principal may inspect, at any reasonable time, all Policyholder records, which relate to this Group Policy. \",\n    \"text_length\": 491\n  }\n]\n```"
     },
     "metadata": {},
     "output_type": "display_data"
    }
   ],
   "execution_count": 9
  },
  {
   "metadata": {},
   "cell_type": "markdown",
   "source": "<div style=\"page-break-after: always;\"></div>",
   "id": "720355558ca3a038"
  },
  {
   "cell_type": "markdown",
   "id": "45f30dab-e2b1-4019-901e-7da084e52781",
   "metadata": {},
   "source": [
    "##### cache test\n",
    "- **search**: Searches for the query in the Qdrant collection.\n",
    "- Displays a `Cache hit!`"
   ]
  },
  {
   "cell_type": "code",
   "id": "83eacd54-423f-4f77-a60b-8cad15873e8c",
   "metadata": {
    "ExecuteTime": {
     "end_time": "2025-04-30T17:29:27.758253Z",
     "start_time": "2025-04-30T17:29:27.753022Z"
    }
   },
   "source": "semantic_search_result = search(\"who has the authority to change the policy?\")",
   "outputs": [
    {
     "name": "stdout",
     "output_type": "stream",
     "text": [
      "Cache hit!\n"
     ]
    }
   ],
   "execution_count": 10
  },
  {
   "metadata": {
    "ExecuteTime": {
     "end_time": "2025-04-30T17:29:27.768923Z",
     "start_time": "2025-04-30T17:29:27.766780Z"
    }
   },
   "cell_type": "code",
   "source": [
    "formatted_json = json.dumps(semantic_search_result, indent=2)\n",
    "md = f\"```json\\n{formatted_json}\\n```\"\n",
    "display(Markdown(md))"
   ],
   "id": "c080642028be543f",
   "outputs": [
    {
     "data": {
      "text/plain": [
       "<IPython.core.display.Markdown object>"
      ],
      "text/markdown": "```json\n[\n  {\n    \"id\": 1,\n    \"version\": 0,\n    \"score\": 0.5939084,\n    \"part\": \"PART II - POLICY ADMINISTRATION\",\n    \"section\": \"Section  A - Contract\",\n    \"article\": \"Article 2 - Policy Changes\",\n    \"content\": \"Insurance under this Group Policy runs annually to the Policy Anniversary, unless sooner terminated. No agent, employee, or person other than an officer of The Principal has authority to change this Group Policy, and, to be effective, all such changes must be in Writing and Signed by an officer of The Principal. The Principal reserves the right to change this Group Policy as follows: a. Any or all provisions of this Group Policy may be amended or changed at any time, including retroactive changes, to the extent necessary to meet the requirements of any law or any regulation issued by any governmental agency to which this Group Policy is subject. b. Any or all provisions of this Group Policy may be amended or changed at any time when The Principal determines that such amendment is required for consistent application of policy provisions. c. By Written agreement between The Principal and the Policyholder, this Group Policy may be amended or changed at any time as to any of its provisions. Any change to this Group Policy, including, but not limited to, those in regard to coverage, benefits, and participation privileges, may be made without the consent of any Member or Dependent. Payment of premium beyond the effective date of the change constitutes the Policyholder's consent to the change. \",\n    \"text_length\": 1308\n  },\n  {\n    \"id\": 9,\n    \"version\": 0,\n    \"score\": 0.47650385,\n    \"part\": \"PART II - POLICY ADMINISTRATION\",\n    \"section\": \"Section  A - Contract\",\n    \"article\": \"Article 10 - Policy Interpretation\",\n    \"content\": \"T he Principal has complete discretion to construe or interpret the provisions of this group insurance policy, to determine eligibility for benefits, and to determine the type and extent of benefits, if any, to be provided. The decisions of The Principal in such matters shall be controlling, binding and final as between The Principal and persons covered by this Group Policy, subject to the Claims Procedures in PART IV, Section D. \",\n    \"text_length\": 434\n  },\n  {\n    \"id\": 5,\n    \"version\": 0,\n    \"score\": 0.46555924,\n    \"part\": \"PART II - POLICY ADMINISTRATION\",\n    \"section\": \"Section  A - Contract\",\n    \"article\": \"Article 6 - Information to be Furnished\",\n    \"content\": \"The Policyholder must, upon request, give The Principal all information needed to administer this Group Policy. If a clerical error is found in this information, The Principal may at any time adjust premium to reflect the facts. An error will not invalidate insurance that would otherwise be in force. Neither will an error continue insurance that would otherwise be terminated. The Principal may inspect, at any reasonable time, all Policyholder records, which relate to this Group Policy. \",\n    \"text_length\": 491\n  }\n]\n```"
     },
     "metadata": {},
     "output_type": "display_data"
    }
   ],
   "execution_count": 11
  },
  {
   "cell_type": "markdown",
   "id": "2a58b1ba-2e9c-493c-b4dd-b1353a2b887d",
   "metadata": {},
   "source": [
    "###### output\n",
    "- **cache_test_output.png**: Shows that the queries are cached"
   ]
  },
  {
   "attachments": {},
   "cell_type": "markdown",
   "id": "42053648-ec00-41ce-b61d-37c68aad1cbb",
   "metadata": {},
   "source": [
    "![cache_test_output.png](cache_test_output.png)"
   ]
  },
  {
   "metadata": {},
   "cell_type": "markdown",
   "source": "<div style=\"page-break-after: always;\"></div>",
   "id": "54405f7ccb04e89a"
  },
  {
   "cell_type": "markdown",
   "id": "a76e86d1-1659-4fd4-a571-fb53ac5454e2",
   "metadata": {},
   "source": [
    "#### Re-Ranking\n",
    "- **get_df_from_points**: Converts the list of points into a DataFrame for easier manipulation.\n",
    "- **get_re_ranked_results**: Uses a cross-encoder model to re-rank the results based on their relevance to the query.\n",
    "- **search_with_re_ranking**: Main function that performs the search and re-ranking."
   ]
  },
  {
   "cell_type": "code",
   "id": "a9b96f30-7685-416b-b81b-ced781f82be6",
   "metadata": {
    "ExecuteTime": {
     "end_time": "2025-04-30T17:29:27.783494Z",
     "start_time": "2025-04-30T17:29:27.781106Z"
    }
   },
   "source": [
    "def get_df_from_points(vector_points):\n",
    "    flat_items = []\n",
    "    [flat_items.append({\n",
    "        \"id\" : point[\"id\"],\n",
    "        \"version\": point[\"version\"],\n",
    "        \"score\": point[\"score\"],\n",
    "        \"part\": point[\"part\"],\n",
    "        \"section\": point[\"section\"],\n",
    "        \"article\": point[\"article\"],\n",
    "        \"content\": point[\"content\"],\n",
    "        \"text_length\": point[\"text_length\"]\n",
    "    }) for point in vector_points]\n",
    "\n",
    "    return pd.DataFrame(flat_items)\n",
    "\n",
    "def get_re_ranked_results(query, vector_points):\n",
    "    re_ranking_model = CrossEncoder('cross-encoder/ms-marco-MiniLM-L-6-v2')\n",
    "    results_df = get_df_from_points(vector_points)\n",
    "    results_df['re_ranking_scores'] = results_df.apply(lambda x: re_ranking_model.predict([[query, x['content']]])[0], axis = 1)\n",
    "    return results_df\n",
    "\n",
    "def search_with_re_ranking(query, limit=5):\n",
    "    vector_points = search(query, limit)\n",
    "    results = get_re_ranked_results(query, vector_points)\n",
    "    return results[['part', 'section', 'article', 'content']]"
   ],
   "outputs": [],
   "execution_count": 12
  },
  {
   "cell_type": "markdown",
   "id": "d5b02169-4ffb-4a70-a746-1dd09f5ae3cb",
   "metadata": {},
   "source": [
    "##### re-ranking comparison with distance score\n",
    "- **search**: Searches for the query in the Qdrant collection.\n",
    "- **get_re_ranked_results**: Re-ranks the results based on their relevance to the query.\n",
    "- **similaritysearch_reranking_comparision_df**: DataFrame showing the comparison between the original scores and the re-ranking scores."
   ]
  },
  {
   "cell_type": "code",
   "id": "2dadbfdc-c27f-412a-9657-0434c0a0c459",
   "metadata": {
    "ExecuteTime": {
     "end_time": "2025-04-30T17:29:30.330513Z",
     "start_time": "2025-04-30T17:29:27.789478Z"
    }
   },
   "source": [
    "query = \"who has the authority of changing the policy?\"\n",
    "vector_points = search(query)\n",
    "re_ranked_results = get_re_ranked_results(query, vector_points)\n",
    "similaritysearch_reranking_comparision_df = re_ranked_results.sort_values(by = ['re_ranking_scores'], ascending = False)\n",
    "similaritysearch_reranking_comparision_df = similaritysearch_reranking_comparision_df[['score', 're_ranking_scores', 'id']]\n",
    "similaritysearch_reranking_comparision_df"
   ],
   "outputs": [
    {
     "name": "stdout",
     "output_type": "stream",
     "text": [
      "Cache miss!\n"
     ]
    },
    {
     "data": {
      "text/plain": [
       "      score  re_ranking_scores  id\n",
       "0  0.548356           4.623034   1\n",
       "2  0.427931          -5.191046   5\n",
       "1  0.448610          -6.051162   9"
      ],
      "text/html": [
       "<div>\n",
       "<style scoped>\n",
       "    .dataframe tbody tr th:only-of-type {\n",
       "        vertical-align: middle;\n",
       "    }\n",
       "\n",
       "    .dataframe tbody tr th {\n",
       "        vertical-align: top;\n",
       "    }\n",
       "\n",
       "    .dataframe thead th {\n",
       "        text-align: right;\n",
       "    }\n",
       "</style>\n",
       "<table border=\"1\" class=\"dataframe\">\n",
       "  <thead>\n",
       "    <tr style=\"text-align: right;\">\n",
       "      <th></th>\n",
       "      <th>score</th>\n",
       "      <th>re_ranking_scores</th>\n",
       "      <th>id</th>\n",
       "    </tr>\n",
       "  </thead>\n",
       "  <tbody>\n",
       "    <tr>\n",
       "      <th>0</th>\n",
       "      <td>0.548356</td>\n",
       "      <td>4.623034</td>\n",
       "      <td>1</td>\n",
       "    </tr>\n",
       "    <tr>\n",
       "      <th>2</th>\n",
       "      <td>0.427931</td>\n",
       "      <td>-5.191046</td>\n",
       "      <td>5</td>\n",
       "    </tr>\n",
       "    <tr>\n",
       "      <th>1</th>\n",
       "      <td>0.448610</td>\n",
       "      <td>-6.051162</td>\n",
       "      <td>9</td>\n",
       "    </tr>\n",
       "  </tbody>\n",
       "</table>\n",
       "</div>"
      ]
     },
     "execution_count": 13,
     "metadata": {},
     "output_type": "execute_result"
    }
   ],
   "execution_count": 13
  },
  {
   "cell_type": "markdown",
   "id": "f03df2bf-a4e3-4d36-a43e-bd84436deddb",
   "metadata": {},
   "source": [
    "##### observation\n",
    "- re-ranking produces a different result than regular semantic search\n",
    "- based on regular semantic search, the chosen top 3 chunks are 1, 9 and 5\n",
    "- based on re-ranking, the chosen top 3 chunks are 1, 5 and 9"
   ]
  },
  {
   "metadata": {},
   "cell_type": "markdown",
   "source": "<div style=\"page-break-after: always;\"></div>",
   "id": "e9f59c6c4e0d2783"
  },
  {
   "cell_type": "markdown",
   "id": "7d891c15-08ba-4849-b7c1-30762e4318c4",
   "metadata": {},
   "source": [
    "### Generation Layer"
   ]
  },
  {
   "cell_type": "markdown",
   "id": "2d54ae2d-1275-4097-8861-dddcb2712441",
   "metadata": {},
   "source": [
    "#### openai connection and initial system prompt\n",
    "- **openai**: Connects to the OpenAI API.\n",
    "- **get_chat_model_completions**: Sends the messages to the OpenAI API and retrieves the response.\n",
    "- **get_insurance_answers**: Prepares the system prompt and user question, and sends it to the OpenAI API for generation.\n",
    "- **user_query**: Main function that takes the user query, performs the search, and generates the response."
   ]
  },
  {
   "cell_type": "code",
   "id": "87d16812-da14-4afb-817a-6f6714f2e830",
   "metadata": {
    "ExecuteTime": {
     "end_time": "2025-04-30T17:29:30.361217Z",
     "start_time": "2025-04-30T17:29:30.357198Z"
    }
   },
   "source": [
    "with open('../OPENAI_API_KEY.txt', 'r') as openai_key_file:\n",
    "    openai.api_key = openai_key_file.readline()\n",
    "\n",
    "def get_chat_model_completions(messages):\n",
    "    response_llm = openai.chat.completions.create(\n",
    "        model = 'gpt-4o-mini',\n",
    "        temperature = 0,\n",
    "        messages = messages\n",
    "    )\n",
    "    return response_llm.choices[0].message.content\n",
    "\n",
    "def get_insurance_answers(question, relevant_context):\n",
    "\n",
    "    delimiter = \"#\"*10\n",
    "    \n",
    "    system_prompt = f\"\"\"\n",
    "        You are a helpful assistant in the insurance domain who understand the policies and documents related to the insurance domain. Specifically life insurance.\n",
    "        You will help the users by answering their important questions.\n",
    "        You will be given relevant context to answer the user's questions. This relevant context is created from an insurance document. The relevant context will be given to you in the format of a dataframe.\n",
    "        The relevant context contains \"part\" which represents one of the main parts of the insurance document.\n",
    "        The relevant context also contains \"section\" which represents one of the sections under a part in the insurance document.\n",
    "        The relevant context also contains \"article\" which represents an article under a part and section, in the insurance document.\n",
    "        The relevant context also contains \"content\" which belongs to a part/section/article.\n",
    "        Each relevant context in the dataframe is an important piece of information. The rows in the dataframe are sorted based on their relative importance. The first document is most relevant and so on.\n",
    "\n",
    "        {delimiter}\n",
    "\n",
    "        Your job is to provide the answer of the question \"{question}\" by using the relevant context available in {relevant_context}. If you are not sure of the answer, say that you do not know.\n",
    "        \n",
    "\n",
    "        {delimiter}\n",
    "\n",
    "        Follow these guidelines when performing the task.\n",
    "        1. You don't have to necessarily use all the information in the dataframe. Use only information which is relevant.\n",
    "        2. Use the \"part\", \"section\", \"article\" and the summary of \"content\" column in the dataframe for any citations.\n",
    "        3. You can use your own knowledge to explain specific terms in the domain of life insurance.\n",
    "\n",
    "        {delimiter}\n",
    "\n",
    "        The output should follow the below guidelines:\n",
    "        1. The output should contain a final answer in the manner user has asked, relevant part/section/article/content-summary in a tabular format.\n",
    "        2. The output should answer the question directly addressing the user and avoid any additional information. If you think that the provided relevant context is not related to the question, mention it in the response.\n",
    "        \n",
    "    \"\"\"\n",
    "    \n",
    "    messages = [\n",
    "                {\n",
    "                    \"role\": \"system\", \"content\": system_prompt\n",
    "                },\n",
    "                {\n",
    "                    \"role\": \"user\", \"content\": question\n",
    "                }\n",
    "              ]\n",
    "    return get_chat_model_completions(messages)\n",
    "\n",
    "def user_query(query:str) -> tuple:\n",
    "    print(query)\n",
    "    search_results_df = search_with_re_ranking(query)\n",
    "    search_results_df = search_results_df[:3]\n",
    "    semantic_search_output = json.dumps(search_results_df[['part', 'section', 'article']].to_dict(orient='records'), indent=2)\n",
    "    llm_output = get_insurance_answers(query, search_results_df)\n",
    "    return (semantic_search_output, llm_output)\n",
    "\n"
   ],
   "outputs": [],
   "execution_count": 14
  },
  {
   "metadata": {},
   "cell_type": "markdown",
   "source": "<div style=\"page-break-after: always;\"></div>",
   "id": "6d04085f3f10fc2d"
  },
  {
   "cell_type": "markdown",
   "id": "688547c4-25b0-4f28-b2b9-beee4422a842",
   "metadata": {},
   "source": [
    "## Query Search"
   ]
  },
  {
   "cell_type": "markdown",
   "id": "4bde0e6e-ce91-4507-82ca-b754285f8e68",
   "metadata": {},
   "source": [
    "### First Query"
   ]
  },
  {
   "cell_type": "code",
   "id": "2b0d688ae5b2b72",
   "metadata": {
    "ExecuteTime": {
     "end_time": "2025-04-30T17:29:36.018056Z",
     "start_time": "2025-04-30T17:29:30.391056Z"
    }
   },
   "source": [
    "semantic_search_output, llm_output = user_query(\"Who is allowed to make changes to this group policy and how are those changes validated?\")"
   ],
   "outputs": [
    {
     "name": "stdout",
     "output_type": "stream",
     "text": [
      "Who is allowed to make changes to this group policy and how are those changes validated?\n",
      "Cache miss!\n"
     ]
    }
   ],
   "execution_count": 15
  },
  {
   "cell_type": "markdown",
   "id": "c02559e7-79b2-4215-9666-b01fbdd3d6d6",
   "metadata": {},
   "source": [
    "#### search"
   ]
  },
  {
   "cell_type": "code",
   "id": "fb5a93d745ec3a46",
   "metadata": {
    "ExecuteTime": {
     "end_time": "2025-04-30T17:29:36.045996Z",
     "start_time": "2025-04-30T17:29:36.043017Z"
    }
   },
   "source": [
    "data = ast.literal_eval(semantic_search_output)\n",
    "formatted_json = json.dumps(data, indent=2)\n",
    "md = f\"```json\\n{formatted_json}\\n```\"\n",
    "display(Markdown(md))"
   ],
   "outputs": [
    {
     "data": {
      "text/plain": [
       "<IPython.core.display.Markdown object>"
      ],
      "text/markdown": "```json\n[\n  {\n    \"part\": \"PART II - POLICY ADMINISTRATION\",\n    \"section\": \"Section  A - Contract\",\n    \"article\": \"Article 2 - Policy Changes\"\n  },\n  {\n    \"part\": \"PART II - POLICY ADMINISTRATION\",\n    \"section\": \"Section  A - Contract\",\n    \"article\": \"Article 10 - Policy Interpretation\"\n  },\n  {\n    \"part\": \"PART II - POLICY ADMINISTRATION\",\n    \"section\": \"Section  A - Contract\",\n    \"article\": \"Article 6 - Information to be Furnished\"\n  }\n]\n```"
     },
     "metadata": {},
     "output_type": "display_data"
    }
   ],
   "execution_count": 16
  },
  {
   "cell_type": "markdown",
   "id": "31cb5e78-925c-420f-b5f2-60a46a60a72a",
   "metadata": {},
   "source": [
    "#### generation"
   ]
  },
  {
   "cell_type": "code",
   "id": "1281a007c9595780",
   "metadata": {
    "ExecuteTime": {
     "end_time": "2025-04-30T17:29:36.059271Z",
     "start_time": "2025-04-30T17:29:36.057111Z"
    }
   },
   "source": [
    "display(Markdown(llm_output))"
   ],
   "outputs": [
    {
     "data": {
      "text/plain": [
       "<IPython.core.display.Markdown object>"
      ],
      "text/markdown": "The Principal has complete discretion to consent to any changes to the group policy. Changes are validated through the Principal's authority as outlined in the policy.\n\n| Part                                | Section                     | Article                          | Content Summary                                                                 |\n|-------------------------------------|-----------------------------|----------------------------------|---------------------------------------------------------------------------------|\n| PART II - POLICY ADMINISTRATION     | Section A - Contract        | Article 2 - Policy Changes       | The Principal has complete discretion to consent to any changes to the policy.   |"
     },
     "metadata": {},
     "output_type": "display_data"
    }
   ],
   "execution_count": 17
  },
  {
   "metadata": {},
   "cell_type": "markdown",
   "source": "<div style=\"page-break-after: always;\"></div>",
   "id": "f9b570b645d82ffa"
  },
  {
   "cell_type": "markdown",
   "id": "c319ec88-ca45-4683-9c49-c38eec908b6a",
   "metadata": {},
   "source": [
    "### Second Query"
   ]
  },
  {
   "cell_type": "code",
   "id": "140d6f39822f7318",
   "metadata": {
    "ExecuteTime": {
     "end_time": "2025-04-30T17:29:42.363203Z",
     "start_time": "2025-04-30T17:29:36.076394Z"
    }
   },
   "source": [
    "semantic_search_output, llm_output = user_query(\"When does my dependent life insurance coverage begin and are there any conditions?\")"
   ],
   "outputs": [
    {
     "name": "stdout",
     "output_type": "stream",
     "text": [
      "When does my dependent life insurance coverage begin and are there any conditions?\n",
      "Cache miss!\n"
     ]
    }
   ],
   "execution_count": 18
  },
  {
   "cell_type": "markdown",
   "id": "59a6b04e-4593-403d-985d-ff5f48ae3bab",
   "metadata": {},
   "source": [
    "#### search"
   ]
  },
  {
   "cell_type": "code",
   "id": "20e97033e9df20e4",
   "metadata": {
    "ExecuteTime": {
     "end_time": "2025-04-30T17:29:42.384476Z",
     "start_time": "2025-04-30T17:29:42.381070Z"
    }
   },
   "source": [
    "data = ast.literal_eval(semantic_search_output)\n",
    "formatted_json = json.dumps(data, indent=2)\n",
    "md = f\"```json\\n{formatted_json}\\n```\"\n",
    "display(Markdown(md))"
   ],
   "outputs": [
    {
     "data": {
      "text/plain": [
       "<IPython.core.display.Markdown object>"
      ],
      "text/markdown": "```json\n[\n  {\n    \"part\": \"PART III - INDIVIDUAL REQUIREMENTS AND RIGHTS\",\n    \"section\": \"Section  A - Eligibility\",\n    \"article\": \"Article 3 - Dependent Life Insurance\"\n  },\n  {\n    \"part\": \"PART III - INDIVIDUAL REQUIREMENTS AND RIGHTS\",\n    \"section\": \"Section  B - Effective Dates\",\n    \"article\": \"Article 3 - Dependent Life Insurance\"\n  },\n  {\n    \"part\": \"PART III - INDIVIDUAL REQUIREMENTS AND RIGHTS\",\n    \"section\": \"Section  C - Individual Terminations\",\n    \"article\": \"Article 3 - Dependent Life Insurance\"\n  }\n]\n```"
     },
     "metadata": {},
     "output_type": "display_data"
    }
   ],
   "execution_count": 19
  },
  {
   "cell_type": "markdown",
   "id": "cea80504-e58d-498d-bef6-b122548b59ae",
   "metadata": {},
   "source": [
    "#### generation"
   ]
  },
  {
   "cell_type": "code",
   "id": "5e3c599d3428a82c",
   "metadata": {
    "ExecuteTime": {
     "end_time": "2025-04-30T17:29:42.400951Z",
     "start_time": "2025-04-30T17:29:42.398718Z"
    }
   },
   "source": [
    "display(Markdown(llm_output))"
   ],
   "outputs": [
    {
     "data": {
      "text/plain": [
       "<IPython.core.display.Markdown object>"
      ],
      "text/markdown": "Your dependent life insurance coverage begins when you are eligible for it, which is available only with your own life insurance coverage. Additionally, there are conditions related to the effective dates of the insurance.\n\nHere is the relevant information:\n\n| Part                                         | Section                               | Article                          | Content Summary                                                                                     |\n|----------------------------------------------|---------------------------------------|----------------------------------|-----------------------------------------------------------------------------------------------------|\n| PART III - INDIVIDUAL REQUIREMENTS AND RIGHTS | Section A - Eligibility               | Article 3 - Dependent Life Insurance | A person will be eligible for Dependent Life Insurance only if they have their own life insurance coverage. |\n| PART III - INDIVIDUAL REQUIREMENTS AND RIGHTS | Section B - Effective Dates           | Article 3 - Dependent Life Insurance | Dependent Life Insurance is available only with your own life insurance coverage.                   |\n\nIn summary, your dependent life insurance coverage begins when you have your own life insurance, and it is subject to the conditions outlined in the policy."
     },
     "metadata": {},
     "output_type": "display_data"
    }
   ],
   "execution_count": 20
  },
  {
   "metadata": {},
   "cell_type": "markdown",
   "source": "<div style=\"page-break-after: always;\"></div>",
   "id": "1be6e4778b962bbf"
  },
  {
   "cell_type": "markdown",
   "id": "ebd3a86c-7c70-4367-ad11-b03b49c6c037",
   "metadata": {},
   "source": [
    "### Third Query"
   ]
  },
  {
   "cell_type": "markdown",
   "id": "bed5e379-6197-4225-baec-2bfb36024652",
   "metadata": {},
   "source": [
    "#### query"
   ]
  },
  {
   "cell_type": "code",
   "id": "e2eac66246442712",
   "metadata": {
    "ExecuteTime": {
     "end_time": "2025-04-30T17:29:48.608393Z",
     "start_time": "2025-04-30T17:29:42.415700Z"
    }
   },
   "source": [
    "semantic_search_output, llm_output = user_query(\"What happens to my life insurance benefit if I become terminally ill?\")"
   ],
   "outputs": [
    {
     "name": "stdout",
     "output_type": "stream",
     "text": [
      "What happens to my life insurance benefit if I become terminally ill?\n",
      "Cache miss!\n"
     ]
    }
   ],
   "execution_count": 21
  },
  {
   "cell_type": "markdown",
   "id": "ddadf7d6-dbf1-45b6-8f10-63f78c4df819",
   "metadata": {},
   "source": [
    "#### search"
   ]
  },
  {
   "cell_type": "code",
   "id": "dcb535874714fd9c",
   "metadata": {
    "ExecuteTime": {
     "end_time": "2025-04-30T17:29:48.634019Z",
     "start_time": "2025-04-30T17:29:48.631272Z"
    }
   },
   "source": [
    "data = ast.literal_eval(semantic_search_output)\n",
    "formatted_json = json.dumps(data, indent=2)\n",
    "md = f\"```json\\n{formatted_json}\\n```\"\n",
    "display(Markdown(md))"
   ],
   "outputs": [
    {
     "data": {
      "text/plain": [
       "<IPython.core.display.Markdown object>"
      ],
      "text/markdown": "```json\n[\n  {\n    \"part\": \"PART IV - BENEFITS\",\n    \"section\": \"Section  A - Member Life Insurance\",\n    \"article\": \"Article 7 - Accelerated Benefits\"\n  },\n  {\n    \"part\": \"PART IV - BENEFITS\",\n    \"section\": \"Section  C - Dependent Life Insurance\",\n    \"article\": \"Article 2 - Death Benefits Payable\"\n  },\n  {\n    \"part\": \"PART IV - BENEFITS\",\n    \"section\": \"Section  A - Member Life Insurance\",\n    \"article\": \"Article 2 - Death Benefits Payable\"\n  }\n]\n```"
     },
     "metadata": {},
     "output_type": "display_data"
    }
   ],
   "execution_count": 22
  },
  {
   "cell_type": "markdown",
   "id": "e247ab4d-b61d-42ae-ae42-9974dd189e74",
   "metadata": {},
   "source": [
    "#### generation"
   ]
  },
  {
   "cell_type": "code",
   "id": "9824b1a7d863e885",
   "metadata": {
    "ExecuteTime": {
     "end_time": "2025-04-30T17:29:48.652606Z",
     "start_time": "2025-04-30T17:29:48.650376Z"
    }
   },
   "source": [
    "display(Markdown(llm_output))"
   ],
   "outputs": [
    {
     "data": {
      "text/plain": [
       "<IPython.core.display.Markdown object>"
      ],
      "text/markdown": "If you become terminally ill, you may be eligible for accelerated benefits under your life insurance policy. This means that you can receive a portion of your life insurance benefit while you are still alive, which can help cover medical expenses or other costs associated with your illness.\n\nHere is the relevant information:\n\n| Part                     | Section                          | Article                     | Content Summary                                                                                     |\n|--------------------------|----------------------------------|-----------------------------|-----------------------------------------------------------------------------------------------------|\n| PART IV - BENEFITS       | Section A - Member Life Insurance | Article 7 - Accelerated Benefits | You may qualify for accelerated benefits if you become terminally ill, allowing you to access part of your life insurance benefit early. |\n\nThis information indicates that you can access your life insurance benefit if you are diagnosed with a terminal illness."
     },
     "metadata": {},
     "output_type": "display_data"
    }
   ],
   "execution_count": 23
  },
  {
   "metadata": {},
   "cell_type": "markdown",
   "source": "<div style=\"page-break-after: always;\"></div>",
   "id": "6fed2a745d19f790"
  },
  {
   "cell_type": "markdown",
   "id": "9bf24536-a4da-460f-8e86-76f19fdf509b",
   "metadata": {},
   "source": [
    "# Conclusions"
   ]
  },
  {
   "cell_type": "markdown",
   "id": "19b05a16-b74f-4d12-a48a-d0f19a0c140a",
   "metadata": {},
   "source": [
    "## Challenges faced\n",
    "\n",
    "- Identifying the right chunking strategy for the document.\n",
    "- Understanding the api for Qdrant and how to use it.\n",
    "- Caching the points changes the data structure from ScoredPoints to dict."
   ]
  }
 ],
 "metadata": {
  "kernelspec": {
   "display_name": "Python 3 (ipykernel)",
   "language": "python",
   "name": "python3"
  },
  "language_info": {
   "codemirror_mode": {
    "name": "ipython",
    "version": 3
   },
   "file_extension": ".py",
   "mimetype": "text/x-python",
   "name": "python",
   "nbconvert_exporter": "python",
   "pygments_lexer": "ipython3",
   "version": "3.11.11"
  }
 },
 "nbformat": 4,
 "nbformat_minor": 5
}
